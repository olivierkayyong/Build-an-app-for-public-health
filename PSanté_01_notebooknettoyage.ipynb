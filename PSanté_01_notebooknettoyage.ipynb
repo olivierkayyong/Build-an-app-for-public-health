{
 "cells": [
  {
   "cell_type": "code",
   "execution_count": 1,
   "id": "0b3d3c04",
   "metadata": {},
   "outputs": [],
   "source": [
    "import pandas as pd\n",
    "import seaborn as sns\n",
    "import matplotlib.pyplot as plt\n",
    "import numpy as np\n",
    "import missingno as msno\n",
    "from sklearn.impute import KNNImputer\n",
    "from scipy.stats import pearsonr\n",
    "from sklearn.experimental import enable_iterative_imputer\n",
    "from sklearn.impute import IterativeImputer\n",
    "from sklearn.preprocessing import MinMaxScaler"
   ]
  },
  {
   "cell_type": "markdown",
   "id": "b0ec46aa",
   "metadata": {},
   "source": [
    "## Énoncé\n",
    "L'agence \"Santé publique France\" a lancé un appel à projets pour trouver des idées innovantes d’applications en lien avec l'alimentation. Nous souhaitons y participer et proposer une idée d’application.\n",
    "## Mission\n",
    "Nous allons réaliser dans un premier temps un nettoyage et une exploration des données extrait de l’appel à projets."
   ]
  },
  {
   "cell_type": "markdown",
   "id": "440afe02",
   "metadata": {},
   "source": [
    "## Idée d’application\n",
    "Notre idée d'application consitera à aider un diabétique résident en France à choisir des produits bénéfiques pour son état de santé.Un diabetscore sera ainsi créer pour classer les produits en fonction de leur caractère bénéfique ou non pour le diabète."
   ]
  },
  {
   "cell_type": "markdown",
   "id": "cd55664f",
   "metadata": {},
   "source": [
    "## Filtrage des features et produits"
   ]
  },
  {
   "cell_type": "markdown",
   "id": "6aef0dc0",
   "metadata": {},
   "source": [
    "Lecture du jeu de données:"
   ]
  },
  {
   "cell_type": "code",
   "execution_count": 2,
   "id": "188b85b5",
   "metadata": {},
   "outputs": [
    {
     "name": "stderr",
     "output_type": "stream",
     "text": [
      "C:\\Users\\33624\\anaconda3\\lib\\site-packages\\IPython\\core\\interactiveshell.py:3444: DtypeWarning: Columns (0,3,5,19,20,24,25,26,27,28,35,36,37,38,39,48) have mixed types.Specify dtype option on import or set low_memory=False.\n",
      "  exec(code_obj, self.user_global_ns, self.user_ns)\n"
     ]
    }
   ],
   "source": [
    "df_food = pd.read_csv('fr.openfoodfacts.org.products.csv',sep='\\t')"
   ]
  },
  {
   "cell_type": "markdown",
   "id": "ff30dce7",
   "metadata": {},
   "source": [
    "Un aperçu du jeu de données:"
   ]
  },
  {
   "cell_type": "code",
   "execution_count": 3,
   "id": "ce19b572",
   "metadata": {},
   "outputs": [
    {
     "data": {
      "text/html": [
       "<div>\n",
       "<style scoped>\n",
       "    .dataframe tbody tr th:only-of-type {\n",
       "        vertical-align: middle;\n",
       "    }\n",
       "\n",
       "    .dataframe tbody tr th {\n",
       "        vertical-align: top;\n",
       "    }\n",
       "\n",
       "    .dataframe thead th {\n",
       "        text-align: right;\n",
       "    }\n",
       "</style>\n",
       "<table border=\"1\" class=\"dataframe\">\n",
       "  <thead>\n",
       "    <tr style=\"text-align: right;\">\n",
       "      <th></th>\n",
       "      <th>code</th>\n",
       "      <th>url</th>\n",
       "      <th>creator</th>\n",
       "      <th>created_t</th>\n",
       "      <th>created_datetime</th>\n",
       "      <th>last_modified_t</th>\n",
       "      <th>last_modified_datetime</th>\n",
       "      <th>product_name</th>\n",
       "      <th>generic_name</th>\n",
       "      <th>quantity</th>\n",
       "      <th>...</th>\n",
       "      <th>ph_100g</th>\n",
       "      <th>fruits-vegetables-nuts_100g</th>\n",
       "      <th>collagen-meat-protein-ratio_100g</th>\n",
       "      <th>cocoa_100g</th>\n",
       "      <th>chlorophyl_100g</th>\n",
       "      <th>carbon-footprint_100g</th>\n",
       "      <th>nutrition-score-fr_100g</th>\n",
       "      <th>nutrition-score-uk_100g</th>\n",
       "      <th>glycemic-index_100g</th>\n",
       "      <th>water-hardness_100g</th>\n",
       "    </tr>\n",
       "  </thead>\n",
       "  <tbody>\n",
       "    <tr>\n",
       "      <th>0</th>\n",
       "      <td>3087</td>\n",
       "      <td>http://world-fr.openfoodfacts.org/produit/0000...</td>\n",
       "      <td>openfoodfacts-contributors</td>\n",
       "      <td>1474103866</td>\n",
       "      <td>2016-09-17T09:17:46Z</td>\n",
       "      <td>1474103893</td>\n",
       "      <td>2016-09-17T09:18:13Z</td>\n",
       "      <td>Farine de blé noir</td>\n",
       "      <td>NaN</td>\n",
       "      <td>1kg</td>\n",
       "      <td>...</td>\n",
       "      <td>NaN</td>\n",
       "      <td>NaN</td>\n",
       "      <td>NaN</td>\n",
       "      <td>NaN</td>\n",
       "      <td>NaN</td>\n",
       "      <td>NaN</td>\n",
       "      <td>NaN</td>\n",
       "      <td>NaN</td>\n",
       "      <td>NaN</td>\n",
       "      <td>NaN</td>\n",
       "    </tr>\n",
       "    <tr>\n",
       "      <th>1</th>\n",
       "      <td>4530</td>\n",
       "      <td>http://world-fr.openfoodfacts.org/produit/0000...</td>\n",
       "      <td>usda-ndb-import</td>\n",
       "      <td>1489069957</td>\n",
       "      <td>2017-03-09T14:32:37Z</td>\n",
       "      <td>1489069957</td>\n",
       "      <td>2017-03-09T14:32:37Z</td>\n",
       "      <td>Banana Chips Sweetened (Whole)</td>\n",
       "      <td>NaN</td>\n",
       "      <td>NaN</td>\n",
       "      <td>...</td>\n",
       "      <td>NaN</td>\n",
       "      <td>NaN</td>\n",
       "      <td>NaN</td>\n",
       "      <td>NaN</td>\n",
       "      <td>NaN</td>\n",
       "      <td>NaN</td>\n",
       "      <td>14.0</td>\n",
       "      <td>14.0</td>\n",
       "      <td>NaN</td>\n",
       "      <td>NaN</td>\n",
       "    </tr>\n",
       "    <tr>\n",
       "      <th>2</th>\n",
       "      <td>4559</td>\n",
       "      <td>http://world-fr.openfoodfacts.org/produit/0000...</td>\n",
       "      <td>usda-ndb-import</td>\n",
       "      <td>1489069957</td>\n",
       "      <td>2017-03-09T14:32:37Z</td>\n",
       "      <td>1489069957</td>\n",
       "      <td>2017-03-09T14:32:37Z</td>\n",
       "      <td>Peanuts</td>\n",
       "      <td>NaN</td>\n",
       "      <td>NaN</td>\n",
       "      <td>...</td>\n",
       "      <td>NaN</td>\n",
       "      <td>NaN</td>\n",
       "      <td>NaN</td>\n",
       "      <td>NaN</td>\n",
       "      <td>NaN</td>\n",
       "      <td>NaN</td>\n",
       "      <td>0.0</td>\n",
       "      <td>0.0</td>\n",
       "      <td>NaN</td>\n",
       "      <td>NaN</td>\n",
       "    </tr>\n",
       "    <tr>\n",
       "      <th>3</th>\n",
       "      <td>16087</td>\n",
       "      <td>http://world-fr.openfoodfacts.org/produit/0000...</td>\n",
       "      <td>usda-ndb-import</td>\n",
       "      <td>1489055731</td>\n",
       "      <td>2017-03-09T10:35:31Z</td>\n",
       "      <td>1489055731</td>\n",
       "      <td>2017-03-09T10:35:31Z</td>\n",
       "      <td>Organic Salted Nut Mix</td>\n",
       "      <td>NaN</td>\n",
       "      <td>NaN</td>\n",
       "      <td>...</td>\n",
       "      <td>NaN</td>\n",
       "      <td>NaN</td>\n",
       "      <td>NaN</td>\n",
       "      <td>NaN</td>\n",
       "      <td>NaN</td>\n",
       "      <td>NaN</td>\n",
       "      <td>12.0</td>\n",
       "      <td>12.0</td>\n",
       "      <td>NaN</td>\n",
       "      <td>NaN</td>\n",
       "    </tr>\n",
       "    <tr>\n",
       "      <th>4</th>\n",
       "      <td>16094</td>\n",
       "      <td>http://world-fr.openfoodfacts.org/produit/0000...</td>\n",
       "      <td>usda-ndb-import</td>\n",
       "      <td>1489055653</td>\n",
       "      <td>2017-03-09T10:34:13Z</td>\n",
       "      <td>1489055653</td>\n",
       "      <td>2017-03-09T10:34:13Z</td>\n",
       "      <td>Organic Polenta</td>\n",
       "      <td>NaN</td>\n",
       "      <td>NaN</td>\n",
       "      <td>...</td>\n",
       "      <td>NaN</td>\n",
       "      <td>NaN</td>\n",
       "      <td>NaN</td>\n",
       "      <td>NaN</td>\n",
       "      <td>NaN</td>\n",
       "      <td>NaN</td>\n",
       "      <td>NaN</td>\n",
       "      <td>NaN</td>\n",
       "      <td>NaN</td>\n",
       "      <td>NaN</td>\n",
       "    </tr>\n",
       "  </tbody>\n",
       "</table>\n",
       "<p>5 rows × 162 columns</p>\n",
       "</div>"
      ],
      "text/plain": [
       "    code                                                url  \\\n",
       "0   3087  http://world-fr.openfoodfacts.org/produit/0000...   \n",
       "1   4530  http://world-fr.openfoodfacts.org/produit/0000...   \n",
       "2   4559  http://world-fr.openfoodfacts.org/produit/0000...   \n",
       "3  16087  http://world-fr.openfoodfacts.org/produit/0000...   \n",
       "4  16094  http://world-fr.openfoodfacts.org/produit/0000...   \n",
       "\n",
       "                      creator   created_t      created_datetime  \\\n",
       "0  openfoodfacts-contributors  1474103866  2016-09-17T09:17:46Z   \n",
       "1             usda-ndb-import  1489069957  2017-03-09T14:32:37Z   \n",
       "2             usda-ndb-import  1489069957  2017-03-09T14:32:37Z   \n",
       "3             usda-ndb-import  1489055731  2017-03-09T10:35:31Z   \n",
       "4             usda-ndb-import  1489055653  2017-03-09T10:34:13Z   \n",
       "\n",
       "  last_modified_t last_modified_datetime                    product_name  \\\n",
       "0      1474103893   2016-09-17T09:18:13Z              Farine de blé noir   \n",
       "1      1489069957   2017-03-09T14:32:37Z  Banana Chips Sweetened (Whole)   \n",
       "2      1489069957   2017-03-09T14:32:37Z                         Peanuts   \n",
       "3      1489055731   2017-03-09T10:35:31Z          Organic Salted Nut Mix   \n",
       "4      1489055653   2017-03-09T10:34:13Z                 Organic Polenta   \n",
       "\n",
       "  generic_name quantity  ... ph_100g fruits-vegetables-nuts_100g  \\\n",
       "0          NaN      1kg  ...     NaN                         NaN   \n",
       "1          NaN      NaN  ...     NaN                         NaN   \n",
       "2          NaN      NaN  ...     NaN                         NaN   \n",
       "3          NaN      NaN  ...     NaN                         NaN   \n",
       "4          NaN      NaN  ...     NaN                         NaN   \n",
       "\n",
       "  collagen-meat-protein-ratio_100g cocoa_100g chlorophyl_100g  \\\n",
       "0                              NaN        NaN             NaN   \n",
       "1                              NaN        NaN             NaN   \n",
       "2                              NaN        NaN             NaN   \n",
       "3                              NaN        NaN             NaN   \n",
       "4                              NaN        NaN             NaN   \n",
       "\n",
       "  carbon-footprint_100g nutrition-score-fr_100g nutrition-score-uk_100g  \\\n",
       "0                   NaN                     NaN                     NaN   \n",
       "1                   NaN                    14.0                    14.0   \n",
       "2                   NaN                     0.0                     0.0   \n",
       "3                   NaN                    12.0                    12.0   \n",
       "4                   NaN                     NaN                     NaN   \n",
       "\n",
       "  glycemic-index_100g water-hardness_100g  \n",
       "0                 NaN                 NaN  \n",
       "1                 NaN                 NaN  \n",
       "2                 NaN                 NaN  \n",
       "3                 NaN                 NaN  \n",
       "4                 NaN                 NaN  \n",
       "\n",
       "[5 rows x 162 columns]"
      ]
     },
     "execution_count": 3,
     "metadata": {},
     "output_type": "execute_result"
    }
   ],
   "source": [
    "df_food.head()"
   ]
  },
  {
   "cell_type": "markdown",
   "id": "06ad94c8",
   "metadata": {},
   "source": [
    "Sa taille:"
   ]
  },
  {
   "cell_type": "code",
   "execution_count": 4,
   "id": "06ada03f",
   "metadata": {},
   "outputs": [
    {
     "name": "stdout",
     "output_type": "stream",
     "text": [
      "Le jeu de données compte 320772 lignes et 162 variables\n"
     ]
    }
   ],
   "source": [
    "print (\"Le jeu de données compte {} lignes et {} variables\".format(df_food.shape[0], df_food.shape[1]))"
   ]
  },
  {
   "cell_type": "markdown",
   "id": "ae3fe0a1",
   "metadata": {},
   "source": [
    "Listons les variables numériques:"
   ]
  },
  {
   "cell_type": "code",
   "execution_count": 5,
   "id": "b1777e26",
   "metadata": {},
   "outputs": [
    {
     "data": {
      "text/plain": [
       "Index(['no_nutriments', 'additives_n', 'ingredients_from_palm_oil_n',\n",
       "       'ingredients_from_palm_oil', 'ingredients_that_may_be_from_palm_oil_n',\n",
       "       'ingredients_that_may_be_from_palm_oil', 'nutrition_grade_uk',\n",
       "       'energy_100g', 'energy-from-fat_100g', 'fat_100g',\n",
       "       ...\n",
       "       'ph_100g', 'fruits-vegetables-nuts_100g',\n",
       "       'collagen-meat-protein-ratio_100g', 'cocoa_100g', 'chlorophyl_100g',\n",
       "       'carbon-footprint_100g', 'nutrition-score-fr_100g',\n",
       "       'nutrition-score-uk_100g', 'glycemic-index_100g',\n",
       "       'water-hardness_100g'],\n",
       "      dtype='object', length=106)"
      ]
     },
     "execution_count": 5,
     "metadata": {},
     "output_type": "execute_result"
    }
   ],
   "source": [
    "df_food_num = df_food.select_dtypes(include = ['float64', 'int64'])\n",
    "df_food_num.columns"
   ]
  },
  {
   "cell_type": "markdown",
   "id": "f8a82f86",
   "metadata": {},
   "source": [
    "Listons les variables catégorielles:"
   ]
  },
  {
   "cell_type": "code",
   "execution_count": 6,
   "id": "7cee0e4c",
   "metadata": {},
   "outputs": [
    {
     "data": {
      "text/plain": [
       "Index(['code', 'url', 'creator', 'created_t', 'created_datetime',\n",
       "       'last_modified_t', 'last_modified_datetime', 'product_name',\n",
       "       'generic_name', 'quantity', 'packaging', 'packaging_tags', 'brands',\n",
       "       'brands_tags', 'categories', 'categories_tags', 'categories_fr',\n",
       "       'origins', 'origins_tags', 'manufacturing_places',\n",
       "       'manufacturing_places_tags', 'labels', 'labels_tags', 'labels_fr',\n",
       "       'emb_codes', 'emb_codes_tags', 'first_packaging_code_geo', 'cities',\n",
       "       'cities_tags', 'purchase_places', 'stores', 'countries',\n",
       "       'countries_tags', 'countries_fr', 'ingredients_text', 'allergens',\n",
       "       'allergens_fr', 'traces', 'traces_tags', 'traces_fr', 'serving_size',\n",
       "       'additives', 'additives_tags', 'additives_fr',\n",
       "       'ingredients_from_palm_oil_tags',\n",
       "       'ingredients_that_may_be_from_palm_oil_tags', 'nutrition_grade_fr',\n",
       "       'pnns_groups_1', 'pnns_groups_2', 'states', 'states_tags', 'states_fr',\n",
       "       'main_category', 'main_category_fr', 'image_url', 'image_small_url'],\n",
       "      dtype='object')"
      ]
     },
     "execution_count": 6,
     "metadata": {},
     "output_type": "execute_result"
    }
   ],
   "source": [
    "df_food_string =df_food.select_dtypes(include = ['O'])\n",
    "df_food_string.columns"
   ]
  },
  {
   "cell_type": "markdown",
   "id": "9148bba4",
   "metadata": {},
   "source": [
    " Affichons le nombre de valeurs manquantes par variable:"
   ]
  },
  {
   "cell_type": "code",
   "execution_count": 7,
   "id": "afc72b7b",
   "metadata": {},
   "outputs": [
    {
     "data": {
      "text/plain": [
       "code                           23\n",
       "url                            23\n",
       "creator                         2\n",
       "created_t                       3\n",
       "created_datetime                9\n",
       "                            ...  \n",
       "carbon-footprint_100g      320504\n",
       "nutrition-score-fr_100g     99562\n",
       "nutrition-score-uk_100g     99562\n",
       "glycemic-index_100g        320772\n",
       "water-hardness_100g        320772\n",
       "Length: 162, dtype: int64"
      ]
     },
     "execution_count": 7,
     "metadata": {},
     "output_type": "execute_result"
    }
   ],
   "source": [
    "df_food.isna().sum()"
   ]
  },
  {
   "cell_type": "markdown",
   "id": "55efec32",
   "metadata": {},
   "source": [
    "Regardons à présent les variables qui comptent le plus de valeurs nulles:"
   ]
  },
  {
   "cell_type": "markdown",
   "id": "5f9f4182",
   "metadata": {},
   "source": [
    "Définissons une fonction qui calcule le pourcentage des valeurs nulles:"
   ]
  },
  {
   "cell_type": "code",
   "execution_count": 10,
   "id": "18d2f7dd",
   "metadata": {},
   "outputs": [],
   "source": [
    "def null_factor(df, tx):\n",
    "    null_rate = ((df.isnull().sum() / df.shape[0])*100).sort_values(ascending=False).reset_index()\n",
    "    null_rate.columns = ['Variable','Taux_de_Null']\n",
    "    high_null_rate = null_rate[null_rate.Taux_de_Null >= tx]\n",
    "    return high_null_rate"
   ]
  },
  {
   "cell_type": "markdown",
   "id": "7b28c0a5",
   "metadata": {},
   "source": [
    "Affichons les variables ayant le plus de valeurs nulles:"
   ]
  },
  {
   "cell_type": "code",
   "execution_count": 11,
   "id": "54c8db31",
   "metadata": {},
   "outputs": [
    {
     "data": {
      "text/html": [
       "<div>\n",
       "<style scoped>\n",
       "    .dataframe tbody tr th:only-of-type {\n",
       "        vertical-align: middle;\n",
       "    }\n",
       "\n",
       "    .dataframe tbody tr th {\n",
       "        vertical-align: top;\n",
       "    }\n",
       "\n",
       "    .dataframe thead th {\n",
       "        text-align: right;\n",
       "    }\n",
       "</style>\n",
       "<table border=\"1\" class=\"dataframe\">\n",
       "  <thead>\n",
       "    <tr style=\"text-align: right;\">\n",
       "      <th></th>\n",
       "      <th>Variable</th>\n",
       "      <th>Taux_de_Null</th>\n",
       "    </tr>\n",
       "  </thead>\n",
       "  <tbody>\n",
       "    <tr>\n",
       "      <th>0</th>\n",
       "      <td>water-hardness_100g</td>\n",
       "      <td>100.0</td>\n",
       "    </tr>\n",
       "    <tr>\n",
       "      <th>1</th>\n",
       "      <td>no_nutriments</td>\n",
       "      <td>100.0</td>\n",
       "    </tr>\n",
       "    <tr>\n",
       "      <th>2</th>\n",
       "      <td>ingredients_that_may_be_from_palm_oil</td>\n",
       "      <td>100.0</td>\n",
       "    </tr>\n",
       "    <tr>\n",
       "      <th>3</th>\n",
       "      <td>nutrition_grade_uk</td>\n",
       "      <td>100.0</td>\n",
       "    </tr>\n",
       "    <tr>\n",
       "      <th>4</th>\n",
       "      <td>nervonic-acid_100g</td>\n",
       "      <td>100.0</td>\n",
       "    </tr>\n",
       "    <tr>\n",
       "      <th>5</th>\n",
       "      <td>erucic-acid_100g</td>\n",
       "      <td>100.0</td>\n",
       "    </tr>\n",
       "    <tr>\n",
       "      <th>6</th>\n",
       "      <td>mead-acid_100g</td>\n",
       "      <td>100.0</td>\n",
       "    </tr>\n",
       "    <tr>\n",
       "      <th>7</th>\n",
       "      <td>elaidic-acid_100g</td>\n",
       "      <td>100.0</td>\n",
       "    </tr>\n",
       "    <tr>\n",
       "      <th>8</th>\n",
       "      <td>butyric-acid_100g</td>\n",
       "      <td>100.0</td>\n",
       "    </tr>\n",
       "    <tr>\n",
       "      <th>9</th>\n",
       "      <td>caproic-acid_100g</td>\n",
       "      <td>100.0</td>\n",
       "    </tr>\n",
       "    <tr>\n",
       "      <th>10</th>\n",
       "      <td>ingredients_from_palm_oil</td>\n",
       "      <td>100.0</td>\n",
       "    </tr>\n",
       "    <tr>\n",
       "      <th>11</th>\n",
       "      <td>lignoceric-acid_100g</td>\n",
       "      <td>100.0</td>\n",
       "    </tr>\n",
       "    <tr>\n",
       "      <th>12</th>\n",
       "      <td>cerotic-acid_100g</td>\n",
       "      <td>100.0</td>\n",
       "    </tr>\n",
       "    <tr>\n",
       "      <th>13</th>\n",
       "      <td>melissic-acid_100g</td>\n",
       "      <td>100.0</td>\n",
       "    </tr>\n",
       "    <tr>\n",
       "      <th>14</th>\n",
       "      <td>chlorophyl_100g</td>\n",
       "      <td>100.0</td>\n",
       "    </tr>\n",
       "    <tr>\n",
       "      <th>15</th>\n",
       "      <td>glycemic-index_100g</td>\n",
       "      <td>100.0</td>\n",
       "    </tr>\n",
       "  </tbody>\n",
       "</table>\n",
       "</div>"
      ],
      "text/plain": [
       "                                 Variable  Taux_de_Null\n",
       "0                     water-hardness_100g         100.0\n",
       "1                           no_nutriments         100.0\n",
       "2   ingredients_that_may_be_from_palm_oil         100.0\n",
       "3                      nutrition_grade_uk         100.0\n",
       "4                      nervonic-acid_100g         100.0\n",
       "5                        erucic-acid_100g         100.0\n",
       "6                          mead-acid_100g         100.0\n",
       "7                       elaidic-acid_100g         100.0\n",
       "8                       butyric-acid_100g         100.0\n",
       "9                       caproic-acid_100g         100.0\n",
       "10              ingredients_from_palm_oil         100.0\n",
       "11                   lignoceric-acid_100g         100.0\n",
       "12                      cerotic-acid_100g         100.0\n",
       "13                     melissic-acid_100g         100.0\n",
       "14                        chlorophyl_100g         100.0\n",
       "15                    glycemic-index_100g         100.0"
      ]
     },
     "execution_count": 11,
     "metadata": {},
     "output_type": "execute_result"
    }
   ],
   "source": [
    "full_null_rate = null_factor(df_food, 100)\n",
    "full_null_rate"
   ]
  },
  {
   "cell_type": "markdown",
   "id": "ebea8216",
   "metadata": {},
   "source": [
    "Affichons le taux de remplissage des variables et afin d'avoir un jeu de données pertinent pour notre analyse, nous décidons de ne considérer que les variables ayant un taux de remplissage supérieur ou egal à 50%."
   ]
  },
  {
   "cell_type": "code",
   "execution_count": 12,
   "id": "4ebf41de",
   "metadata": {},
   "outputs": [
    {
     "data": {
      "image/png": "[encoded data removed]",
      "text/plain": [
       "<Figure size 1440x2520 with 1 Axes>"
      ]
     },
     "metadata": {
      "needs_background": "light"
     },
     "output_type": "display_data"
    }
   ],
   "source": [
    "filling_features = null_factor(df_food, 0)\n",
    "filling_features[\"Taux_de_remplissage\"] = 100-filling_features[\"Taux_de_Null\"]\n",
    "filling_features = filling_features.sort_values(\"Taux_de_remplissage\", ascending=False) \n",
    "\n",
    "#Seuil de suppression\n",
    "sup_threshold = 50\n",
    "\n",
    "fig = plt.figure(figsize=(20, 35))\n",
    "\n",
    "font_title = {'family': 'serif',\n",
    "              'color':  '#114b98',\n",
    "              'weight': 'bold',\n",
    "              'size': 18,\n",
    "             }\n",
    "\n",
    "sns.barplot(x=\"Taux_de_remplissage\", y=\"Variable\", data=filling_features, palette=\"flare\")\n",
    "#Seuil pour suppression des varaibles\n",
    "plt.axvline(x=sup_threshold, linewidth=2, color = 'r')\n",
    "plt.text(sup_threshold+2, 65, 'Seuil de suppression des variables', fontsize = 16, color = 'r')\n",
    "\n",
    "plt.title(\"Taux de remplissage des variables dans le jeu de données (%)\", fontdict=font_title)\n",
    "plt.xlabel(\"Taux de remplissage (%)\")\n",
    "plt.show()"
   ]
  },
  {
   "cell_type": "markdown",
   "id": "54f014f6",
   "metadata": {},
   "source": [
    "Liste des variables à conserver:"
   ]
  },
  {
   "cell_type": "code",
   "execution_count": 13,
   "id": "4106aa56",
   "metadata": {},
   "outputs": [
    {
     "data": {
      "text/plain": [
       "Index(['last_modified_t', 'last_modified_datetime', 'creator', 'created_t',\n",
       "       'created_datetime', 'code', 'url', 'states', 'states_tags', 'states_fr',\n",
       "       'countries_fr', 'countries', 'countries_tags', 'product_name', 'brands',\n",
       "       'brands_tags', 'energy_100g', 'proteins_100g', 'salt_100g',\n",
       "       'sodium_100g', 'ingredients_text',\n",
       "       'ingredients_that_may_be_from_palm_oil_n',\n",
       "       'ingredients_from_palm_oil_n', 'additives_n', 'additives',\n",
       "       'sugars_100g', 'fat_100g', 'carbohydrates_100g', 'saturated-fat_100g',\n",
       "       'nutrition_grade_fr', 'nutrition-score-fr_100g',\n",
       "       'nutrition-score-uk_100g', 'serving_size', 'fiber_100g'],\n",
       "      dtype='object')"
      ]
     },
     "execution_count": 13,
     "metadata": {},
     "output_type": "execute_result"
    }
   ],
   "source": [
    "features_to_conserve = list(filling_features.loc[filling_features['Taux_de_remplissage']>=sup_threshold, 'Variable'].values)\n",
    "df_food_50 = df_food[features_to_conserve].sort_values([\"created_datetime\",\"last_modified_datetime\"], ascending=True)\n",
    "df_food_50.columns "
   ]
  },
  {
   "cell_type": "markdown",
   "id": "17b29eab",
   "metadata": {},
   "source": [
    "Vérifions s'il existe des doublons sur le code du produit qui un identifiant unique:"
   ]
  },
  {
   "cell_type": "code",
   "execution_count": 14,
   "id": "3307065b",
   "metadata": {},
   "outputs": [
    {
     "data": {
      "text/plain": [
       "133"
      ]
     },
     "execution_count": 14,
     "metadata": {},
     "output_type": "execute_result"
    }
   ],
   "source": [
    "df_food_50.duplicated('code').sum()"
   ]
  },
  {
   "cell_type": "markdown",
   "id": "ca214960",
   "metadata": {},
   "source": [
    "Supprimons les doublons en conservant les valeurs nulles:"
   ]
  },
  {
   "cell_type": "code",
   "execution_count": 15,
   "id": "6ee71ccd",
   "metadata": {},
   "outputs": [],
   "source": [
    "df_food_50 = df_food_50[~(df_food_50.duplicated('code',keep='last')) | (df_food_50['code'].isnull())]"
   ]
  },
  {
   "cell_type": "markdown",
   "id": "aca1f6f8",
   "metadata": {},
   "source": [
    "Conservons les features nutritionnelles et catégorielles des produits utiles à notre problématique:"
   ]
  },
  {
   "cell_type": "code",
   "execution_count": 16,
   "id": "66f8fa47",
   "metadata": {},
   "outputs": [],
   "source": [
    "df_food_50=df_food_50[[ 'code','product_name', 'countries_fr', 'energy_100g', 'fat_100g','saturated-fat_100g', \n",
    "                       'carbohydrates_100g', 'sugars_100g', 'fiber_100g', 'proteins_100g', 'salt_100g', 'sodium_100g',\n",
    "                       'nutrition_grade_fr','nutrition-score-fr_100g']]"
   ]
  },
  {
   "cell_type": "markdown",
   "id": "fe3b2eeb",
   "metadata": {},
   "source": [
    "Ajoutons les features catégorielles utiles pour catégoriser les produits:"
   ]
  },
  {
   "cell_type": "code",
   "execution_count": 17,
   "id": "1b2c168f",
   "metadata": {},
   "outputs": [],
   "source": [
    "df_food_50['pnns_groups_1']=df_food['pnns_groups_1']\n",
    "df_food_50['pnns_groups_2']=df_food['pnns_groups_2']"
   ]
  },
  {
   "cell_type": "markdown",
   "id": "d9774b7e",
   "metadata": {},
   "source": [
    "En rapport avec notre problématique(diabétique résident en France nous allons considérer que les produits qu'on pourra trouver en France:"
   ]
  },
  {
   "cell_type": "code",
   "execution_count": 18,
   "id": "bb90aabf",
   "metadata": {},
   "outputs": [],
   "source": [
    "choosen_France = df_food_50['countries_fr'].str.contains('France',case=False,na=False)\n",
    "df_food_50['countries_fr']=df_food_50[choosen_France ]['countries_fr']\n",
    "df_food_50=df_food_50[~((df_food_50.countries_fr.isnull()))]"
   ]
  },
  {
   "cell_type": "markdown",
   "id": "f19d8827",
   "metadata": {},
   "source": [
    "Un aperçu de la variable countries_fr:"
   ]
  },
  {
   "cell_type": "code",
   "execution_count": 19,
   "id": "5c199212",
   "metadata": {},
   "outputs": [
    {
     "data": {
      "text/plain": [
       "251761                           France\n",
       "188901                           France\n",
       "212131                           France\n",
       "195704                           France\n",
       "302186    Belgique,France,Italie,Suisse\n",
       "Name: countries_fr, dtype: object"
      ]
     },
     "execution_count": 19,
     "metadata": {},
     "output_type": "execute_result"
    }
   ],
   "source": [
    "df_food_50['countries_fr'].head()\n"
   ]
  },
  {
   "cell_type": "markdown",
   "id": "ad8d0084",
   "metadata": {},
   "source": [
    "#### Les catégories de produits"
   ]
  },
  {
   "cell_type": "markdown",
   "id": "0c35e880",
   "metadata": {},
   "source": [
    "Affichons les catégories présentes dans pnns_groups_1 et pnns_groups_2:"
   ]
  },
  {
   "cell_type": "code",
   "execution_count": 20,
   "id": "6fe45b4f",
   "metadata": {},
   "outputs": [
    {
     "data": {
      "text/plain": [
       "array(['Sugary snacks', 'Salty snacks', 'Beverages', 'Fish Meat Eggs',\n",
       "       'Composite foods', 'Milk and dairy products',\n",
       "       'Cereals and potatoes', 'Fruits and vegetables', 'Fat and sauces',\n",
       "       'unknown', nan, 'sugary-snacks', 'fruits-and-vegetables',\n",
       "       'cereals-and-potatoes'], dtype=object)"
      ]
     },
     "execution_count": 20,
     "metadata": {},
     "output_type": "execute_result"
    }
   ],
   "source": [
    "df_food_50['pnns_groups_1'].unique()"
   ]
  },
  {
   "cell_type": "code",
   "execution_count": 21,
   "id": "7c8de319",
   "metadata": {},
   "outputs": [
    {
     "data": {
      "text/plain": [
       "array(['Sweets', 'Appetizers', 'Biscuits and cakes',\n",
       "       'Non-sugared beverages', 'Chocolate products', 'Fish and seafood',\n",
       "       'One-dish meals', 'Cheese', 'Fruit juices', 'Cereals',\n",
       "       'Fruit nectars', 'Dried fruits', 'Eggs', 'Sweetened beverages',\n",
       "       'Fats', 'Bread', 'Processed meat', 'Dressings and sauces',\n",
       "       'Legumes', 'unknown', 'Ice cream', 'Fruits', 'Alcoholic beverages',\n",
       "       'Milk and yogurt', 'Vegetables', 'Breakfast cereals',\n",
       "       'Pizza pies and quiche', 'Artificially sweetened beverages',\n",
       "       'Nuts', 'pastries', 'Meat', 'vegetables', 'Soups',\n",
       "       'Dairy desserts', 'Sandwich', 'fruits', 'Potatoes', 'Tripe dishes',\n",
       "       nan, 'Salty and fatty products', 'cereals', 'legumes'],\n",
       "      dtype=object)"
      ]
     },
     "execution_count": 21,
     "metadata": {},
     "output_type": "execute_result"
    }
   ],
   "source": [
    "df_food_50['pnns_groups_2'].unique()"
   ]
  },
  {
   "cell_type": "markdown",
   "id": "280c1fa6",
   "metadata": {},
   "source": [
    "Afin de pourvoir caractériser tous les produits, nous décidons de remplaçer les valeurs manquantes par la catégorie unknown:"
   ]
  },
  {
   "cell_type": "code",
   "execution_count": 22,
   "id": "8ff77fd1",
   "metadata": {},
   "outputs": [],
   "source": [
    "df_food_50.loc[df_food_50['pnns_groups_1'].isna(),'pnns_groups_1']='unknown'\n",
    "df_food_50.loc[df_food_50['pnns_groups_2'].isna(),'pnns_groups_2']='unknown'"
   ]
  },
  {
   "cell_type": "markdown",
   "id": "fb43738c",
   "metadata": {},
   "source": [
    "Nous identifions des erreurs de formatage par exemple \"Fruits and vegetables\" et \"fruits-and-vegetables\".     \n",
    "Nous allons corriger le problème en passant le texte en miniscule et en remplaçant les caractères spéciaux par un espace :"
   ]
  },
  {
   "cell_type": "code",
   "execution_count": 23,
   "id": "2e63704e",
   "metadata": {},
   "outputs": [],
   "source": [
    "df_food_50[\"pnns_groups_1\"] = df_food_50[\"pnns_groups_1\"].str.lower().str.replace('-', ' ')\n",
    "df_food_50[\"pnns_groups_2\"] = df_food_50[\"pnns_groups_2\"].str.lower().str.replace('-', ' ')"
   ]
  },
  {
   "cell_type": "markdown",
   "id": "695ce1f5",
   "metadata": {},
   "source": [
    "Affichons les catégories résultantes de ces corrections:"
   ]
  },
  {
   "cell_type": "code",
   "execution_count": 24,
   "id": "2c41c21c",
   "metadata": {},
   "outputs": [
    {
     "name": "stdout",
     "output_type": "stream",
     "text": [
      "10 catégories sont représentées dans la variable pnns_group_1:\n"
     ]
    },
    {
     "data": {
      "text/plain": [
       "array(['sugary snacks', 'salty snacks', 'beverages', 'fish meat eggs',\n",
       "       'composite foods', 'milk and dairy products',\n",
       "       'cereals and potatoes', 'fruits and vegetables', 'fat and sauces',\n",
       "       'unknown'], dtype=object)"
      ]
     },
     "execution_count": 24,
     "metadata": {},
     "output_type": "execute_result"
    }
   ],
   "source": [
    "print(\"{} catégories sont représentées dans la variable pnns_group_1:\".format(len(df_food_50['pnns_groups_1'].unique())))\n",
    "df_food_50['pnns_groups_1'].unique()"
   ]
  },
  {
   "cell_type": "code",
   "execution_count": 25,
   "id": "163dc05a",
   "metadata": {
    "scrolled": true
   },
   "outputs": [
    {
     "name": "stdout",
     "output_type": "stream",
     "text": [
      "37 catégories sont représentées dans la variable pnns_group_2:\n"
     ]
    },
    {
     "data": {
      "text/plain": [
       "array(['sweets', 'appetizers', 'biscuits and cakes',\n",
       "       'non sugared beverages', 'chocolate products', 'fish and seafood',\n",
       "       'one dish meals', 'cheese', 'fruit juices', 'cereals',\n",
       "       'fruit nectars', 'dried fruits', 'eggs', 'sweetened beverages',\n",
       "       'fats', 'bread', 'processed meat', 'dressings and sauces',\n",
       "       'legumes', 'unknown', 'ice cream', 'fruits', 'alcoholic beverages',\n",
       "       'milk and yogurt', 'vegetables', 'breakfast cereals',\n",
       "       'pizza pies and quiche', 'artificially sweetened beverages',\n",
       "       'nuts', 'pastries', 'meat', 'soups', 'dairy desserts', 'sandwich',\n",
       "       'potatoes', 'tripe dishes', 'salty and fatty products'],\n",
       "      dtype=object)"
      ]
     },
     "execution_count": 25,
     "metadata": {},
     "output_type": "execute_result"
    }
   ],
   "source": [
    "print(\"{} catégories sont représentées dans la variable pnns_group_2:\".format(len(df_food_50['pnns_groups_2'].unique())))\n",
    "df_food_50['pnns_groups_2'].unique()"
   ]
  },
  {
   "cell_type": "markdown",
   "id": "9b05c840",
   "metadata": {},
   "source": [
    "La taille du nouveau jeu de données: "
   ]
  },
  {
   "cell_type": "code",
   "execution_count": 26,
   "id": "2a219f4b",
   "metadata": {},
   "outputs": [
    {
     "name": "stdout",
     "output_type": "stream",
     "text": [
      "Le jeu de données compte 98425 lignes et 16 variables\n"
     ]
    }
   ],
   "source": [
    "print (\"Le jeu de données compte {} lignes et {} variables\".format(df_food_50.shape[0], df_food_50.shape[1]))"
   ]
  },
  {
   "cell_type": "markdown",
   "id": "37bd2fc3",
   "metadata": {},
   "source": [
    "Un aperçu du jeu de données:"
   ]
  },
  {
   "cell_type": "code",
   "execution_count": 27,
   "id": "6f3e36d3",
   "metadata": {},
   "outputs": [
    {
     "data": {
      "text/html": [
       "<div>\n",
       "<style scoped>\n",
       "    .dataframe tbody tr th:only-of-type {\n",
       "        vertical-align: middle;\n",
       "    }\n",
       "\n",
       "    .dataframe tbody tr th {\n",
       "        vertical-align: top;\n",
       "    }\n",
       "\n",
       "    .dataframe thead th {\n",
       "        text-align: right;\n",
       "    }\n",
       "</style>\n",
       "<table border=\"1\" class=\"dataframe\">\n",
       "  <thead>\n",
       "    <tr style=\"text-align: right;\">\n",
       "      <th></th>\n",
       "      <th>code</th>\n",
       "      <th>product_name</th>\n",
       "      <th>countries_fr</th>\n",
       "      <th>energy_100g</th>\n",
       "      <th>fat_100g</th>\n",
       "      <th>saturated-fat_100g</th>\n",
       "      <th>carbohydrates_100g</th>\n",
       "      <th>sugars_100g</th>\n",
       "      <th>fiber_100g</th>\n",
       "      <th>proteins_100g</th>\n",
       "      <th>salt_100g</th>\n",
       "      <th>sodium_100g</th>\n",
       "      <th>nutrition_grade_fr</th>\n",
       "      <th>nutrition-score-fr_100g</th>\n",
       "      <th>pnns_groups_1</th>\n",
       "      <th>pnns_groups_2</th>\n",
       "    </tr>\n",
       "  </thead>\n",
       "  <tbody>\n",
       "    <tr>\n",
       "      <th>251761</th>\n",
       "      <td>3760029248001</td>\n",
       "      <td>Caramels tendres au beurre salé au sel de Guér...</td>\n",
       "      <td>France</td>\n",
       "      <td>1717.0</td>\n",
       "      <td>10.9</td>\n",
       "      <td>7.0</td>\n",
       "      <td>73.5</td>\n",
       "      <td>49.3</td>\n",
       "      <td>NaN</td>\n",
       "      <td>3.0</td>\n",
       "      <td>1.7000</td>\n",
       "      <td>0.669291</td>\n",
       "      <td>e</td>\n",
       "      <td>28.0</td>\n",
       "      <td>sugary snacks</td>\n",
       "      <td>sweets</td>\n",
       "    </tr>\n",
       "    <tr>\n",
       "      <th>188901</th>\n",
       "      <td>3029330062806</td>\n",
       "      <td>Jacquet Les bouchées créatives à garnir</td>\n",
       "      <td>France</td>\n",
       "      <td>1898.0</td>\n",
       "      <td>15.5</td>\n",
       "      <td>1.3</td>\n",
       "      <td>68.0</td>\n",
       "      <td>2.0</td>\n",
       "      <td>3.0</td>\n",
       "      <td>8.5</td>\n",
       "      <td>1.7526</td>\n",
       "      <td>0.690000</td>\n",
       "      <td>c</td>\n",
       "      <td>9.0</td>\n",
       "      <td>salty snacks</td>\n",
       "      <td>appetizers</td>\n",
       "    </tr>\n",
       "    <tr>\n",
       "      <th>212131</th>\n",
       "      <td>3257980112590</td>\n",
       "      <td>Boudoirs</td>\n",
       "      <td>France</td>\n",
       "      <td>1637.0</td>\n",
       "      <td>3.2</td>\n",
       "      <td>0.9</td>\n",
       "      <td>81.0</td>\n",
       "      <td>55.3</td>\n",
       "      <td>1.5</td>\n",
       "      <td>7.6</td>\n",
       "      <td>0.3810</td>\n",
       "      <td>0.150000</td>\n",
       "      <td>d</td>\n",
       "      <td>13.0</td>\n",
       "      <td>sugary snacks</td>\n",
       "      <td>biscuits and cakes</td>\n",
       "    </tr>\n",
       "    <tr>\n",
       "      <th>195704</th>\n",
       "      <td>3160181210524</td>\n",
       "      <td>Cookies tout chocolat Biocoop</td>\n",
       "      <td>France</td>\n",
       "      <td>2040.0</td>\n",
       "      <td>25.0</td>\n",
       "      <td>14.0</td>\n",
       "      <td>56.0</td>\n",
       "      <td>33.0</td>\n",
       "      <td>5.5</td>\n",
       "      <td>7.0</td>\n",
       "      <td>0.3810</td>\n",
       "      <td>0.150000</td>\n",
       "      <td>e</td>\n",
       "      <td>19.0</td>\n",
       "      <td>sugary snacks</td>\n",
       "      <td>biscuits and cakes</td>\n",
       "    </tr>\n",
       "    <tr>\n",
       "      <th>302186</th>\n",
       "      <td>8002270014901</td>\n",
       "      <td>Eau minérale gazeuse</td>\n",
       "      <td>Belgique,France,Italie,Suisse</td>\n",
       "      <td>NaN</td>\n",
       "      <td>NaN</td>\n",
       "      <td>NaN</td>\n",
       "      <td>NaN</td>\n",
       "      <td>NaN</td>\n",
       "      <td>NaN</td>\n",
       "      <td>NaN</td>\n",
       "      <td>NaN</td>\n",
       "      <td>NaN</td>\n",
       "      <td>NaN</td>\n",
       "      <td>NaN</td>\n",
       "      <td>beverages</td>\n",
       "      <td>non sugared beverages</td>\n",
       "    </tr>\n",
       "  </tbody>\n",
       "</table>\n",
       "</div>"
      ],
      "text/plain": [
       "                 code                                       product_name  \\\n",
       "251761  3760029248001  Caramels tendres au beurre salé au sel de Guér...   \n",
       "188901  3029330062806            Jacquet Les bouchées créatives à garnir   \n",
       "212131  3257980112590                                           Boudoirs   \n",
       "195704  3160181210524                      Cookies tout chocolat Biocoop   \n",
       "302186  8002270014901                               Eau minérale gazeuse   \n",
       "\n",
       "                         countries_fr  energy_100g  fat_100g  \\\n",
       "251761                         France       1717.0      10.9   \n",
       "188901                         France       1898.0      15.5   \n",
       "212131                         France       1637.0       3.2   \n",
       "195704                         France       2040.0      25.0   \n",
       "302186  Belgique,France,Italie,Suisse          NaN       NaN   \n",
       "\n",
       "        saturated-fat_100g  carbohydrates_100g  sugars_100g  fiber_100g  \\\n",
       "251761                 7.0                73.5         49.3         NaN   \n",
       "188901                 1.3                68.0          2.0         3.0   \n",
       "212131                 0.9                81.0         55.3         1.5   \n",
       "195704                14.0                56.0         33.0         5.5   \n",
       "302186                 NaN                 NaN          NaN         NaN   \n",
       "\n",
       "        proteins_100g  salt_100g  sodium_100g nutrition_grade_fr  \\\n",
       "251761            3.0     1.7000     0.669291                  e   \n",
       "188901            8.5     1.7526     0.690000                  c   \n",
       "212131            7.6     0.3810     0.150000                  d   \n",
       "195704            7.0     0.3810     0.150000                  e   \n",
       "302186            NaN        NaN          NaN                NaN   \n",
       "\n",
       "        nutrition-score-fr_100g  pnns_groups_1          pnns_groups_2  \n",
       "251761                     28.0  sugary snacks                 sweets  \n",
       "188901                      9.0   salty snacks             appetizers  \n",
       "212131                     13.0  sugary snacks     biscuits and cakes  \n",
       "195704                     19.0  sugary snacks     biscuits and cakes  \n",
       "302186                      NaN      beverages  non sugared beverages  "
      ]
     },
     "execution_count": 27,
     "metadata": {},
     "output_type": "execute_result"
    }
   ],
   "source": [
    "df_food_50.head()"
   ]
  },
  {
   "cell_type": "markdown",
   "id": "f920965e",
   "metadata": {},
   "source": [
    "## Traitement des valeurs aberrantes"
   ]
  },
  {
   "cell_type": "code",
   "execution_count": 28,
   "id": "6d221ed3",
   "metadata": {},
   "outputs": [],
   "source": [
    "df_food_aberr=df_food_50.copy()"
   ]
  },
  {
   "cell_type": "markdown",
   "id": "7f007fd0",
   "metadata": {},
   "source": [
    "#### Energy_100g"
   ]
  },
  {
   "cell_type": "code",
   "execution_count": 29,
   "id": "0fed5daa",
   "metadata": {},
   "outputs": [
    {
     "data": {
      "text/plain": [
       "count    6.458300e+04\n",
       "mean     1.171507e+03\n",
       "std      1.283689e+04\n",
       "min      0.000000e+00\n",
       "25%      4.270000e+02\n",
       "50%      1.035000e+03\n",
       "75%      1.649000e+03\n",
       "max      3.251373e+06\n",
       "Name: energy_100g, dtype: float64"
      ]
     },
     "execution_count": 29,
     "metadata": {},
     "output_type": "execute_result"
    }
   ],
   "source": [
    "df_food_aberr['energy_100g'].describe()"
   ]
  },
  {
   "cell_type": "markdown",
   "id": "7cdc8773",
   "metadata": {},
   "source": [
    "En considérant  900kcal (3768.12 kJ) comme valeur énergétique maximale possible pour 100g, toutes les valeurs étant positives,seules celles supérieures à ce seuil seront considérées aberrantes et remplaçées par NaN  c'est à dire considerées comme valeurs manquantes."
   ]
  },
  {
   "cell_type": "code",
   "execution_count": 30,
   "id": "390d366d",
   "metadata": {},
   "outputs": [],
   "source": [
    "mask=df_food_aberr['energy_100g']> 3768.12\n",
    "df_food_aberr.loc[mask,'energy_100g']=np.NaN"
   ]
  },
  {
   "cell_type": "markdown",
   "id": "bc165efa",
   "metadata": {},
   "source": [
    "Recontrollons les valueurs aberrantes:"
   ]
  },
  {
   "cell_type": "code",
   "execution_count": 31,
   "id": "3e23d5b0",
   "metadata": {},
   "outputs": [
    {
     "data": {
      "text/plain": [
       "count    64486.000000\n",
       "mean      1111.192653\n",
       "std        772.942036\n",
       "min          0.000000\n",
       "25%        427.000000\n",
       "50%       1033.000000\n",
       "75%       1647.000000\n",
       "max       3768.000000\n",
       "Name: energy_100g, dtype: float64"
      ]
     },
     "execution_count": 31,
     "metadata": {},
     "output_type": "execute_result"
    }
   ],
   "source": [
    "df_food_aberr['energy_100g'].describe()"
   ]
  },
  {
   "cell_type": "markdown",
   "id": "6c2a1e36",
   "metadata": {},
   "source": [
    "### Liste des produits dont les valeurs doivent être comprises entre 0 et 100g"
   ]
  },
  {
   "cell_type": "markdown",
   "id": "da0e2454",
   "metadata": {},
   "source": [
    "Listons ces produits:"
   ]
  },
  {
   "cell_type": "code",
   "execution_count": 32,
   "id": "1add4ea2",
   "metadata": {},
   "outputs": [
    {
     "data": {
      "text/plain": [
       "['fat_100g',\n",
       " 'saturated-fat_100g',\n",
       " 'carbohydrates_100g',\n",
       " 'sugars_100g',\n",
       " 'fiber_100g',\n",
       " 'proteins_100g',\n",
       " 'salt_100g',\n",
       " 'sodium_100g']"
      ]
     },
     "execution_count": 32,
     "metadata": {},
     "output_type": "execute_result"
    }
   ],
   "source": [
    "list_100g=['fat_100g','saturated-fat_100g', 'carbohydrates_100g', 'sugars_100g', 'fiber_100g', 'proteins_100g',\n",
    "           'salt_100g','sodium_100g']\n",
    "list_100g"
   ]
  },
  {
   "cell_type": "markdown",
   "id": "eb18c323",
   "metadata": {},
   "source": [
    "Analysons la liste de ces produits:"
   ]
  },
  {
   "cell_type": "code",
   "execution_count": 33,
   "id": "38e8df84",
   "metadata": {},
   "outputs": [
    {
     "data": {
      "text/html": [
       "<div>\n",
       "<style scoped>\n",
       "    .dataframe tbody tr th:only-of-type {\n",
       "        vertical-align: middle;\n",
       "    }\n",
       "\n",
       "    .dataframe tbody tr th {\n",
       "        vertical-align: top;\n",
       "    }\n",
       "\n",
       "    .dataframe thead th {\n",
       "        text-align: right;\n",
       "    }\n",
       "</style>\n",
       "<table border=\"1\" class=\"dataframe\">\n",
       "  <thead>\n",
       "    <tr style=\"text-align: right;\">\n",
       "      <th></th>\n",
       "      <th>fat_100g</th>\n",
       "      <th>saturated-fat_100g</th>\n",
       "      <th>carbohydrates_100g</th>\n",
       "      <th>sugars_100g</th>\n",
       "      <th>fiber_100g</th>\n",
       "      <th>proteins_100g</th>\n",
       "      <th>salt_100g</th>\n",
       "      <th>sodium_100g</th>\n",
       "    </tr>\n",
       "  </thead>\n",
       "  <tbody>\n",
       "    <tr>\n",
       "      <th>count</th>\n",
       "      <td>47634.000000</td>\n",
       "      <td>62365.000000</td>\n",
       "      <td>47203.000000</td>\n",
       "      <td>62505.000000</td>\n",
       "      <td>45713.000000</td>\n",
       "      <td>64308.000000</td>\n",
       "      <td>62564.000000</td>\n",
       "      <td>62561.000000</td>\n",
       "    </tr>\n",
       "    <tr>\n",
       "      <th>mean</th>\n",
       "      <td>13.331379</td>\n",
       "      <td>5.423769</td>\n",
       "      <td>27.757503</td>\n",
       "      <td>13.431438</td>\n",
       "      <td>2.559229</td>\n",
       "      <td>7.754490</td>\n",
       "      <td>1.160402</td>\n",
       "      <td>0.456871</td>\n",
       "    </tr>\n",
       "    <tr>\n",
       "      <th>std</th>\n",
       "      <td>16.926568</td>\n",
       "      <td>8.531591</td>\n",
       "      <td>27.413412</td>\n",
       "      <td>19.087615</td>\n",
       "      <td>4.635187</td>\n",
       "      <td>7.887513</td>\n",
       "      <td>4.309938</td>\n",
       "      <td>1.696808</td>\n",
       "    </tr>\n",
       "    <tr>\n",
       "      <th>min</th>\n",
       "      <td>0.000000</td>\n",
       "      <td>0.000000</td>\n",
       "      <td>0.000000</td>\n",
       "      <td>-0.100000</td>\n",
       "      <td>0.000000</td>\n",
       "      <td>0.000000</td>\n",
       "      <td>0.000000</td>\n",
       "      <td>0.000000</td>\n",
       "    </tr>\n",
       "    <tr>\n",
       "      <th>25%</th>\n",
       "      <td>1.300000</td>\n",
       "      <td>0.300000</td>\n",
       "      <td>4.000000</td>\n",
       "      <td>1.000000</td>\n",
       "      <td>0.000000</td>\n",
       "      <td>1.800000</td>\n",
       "      <td>0.080000</td>\n",
       "      <td>0.031496</td>\n",
       "    </tr>\n",
       "    <tr>\n",
       "      <th>50%</th>\n",
       "      <td>6.800000</td>\n",
       "      <td>2.000000</td>\n",
       "      <td>14.500000</td>\n",
       "      <td>4.100000</td>\n",
       "      <td>1.350000</td>\n",
       "      <td>6.000000</td>\n",
       "      <td>0.558800</td>\n",
       "      <td>0.220000</td>\n",
       "    </tr>\n",
       "    <tr>\n",
       "      <th>75%</th>\n",
       "      <td>21.000000</td>\n",
       "      <td>7.400000</td>\n",
       "      <td>53.000000</td>\n",
       "      <td>17.800000</td>\n",
       "      <td>3.200000</td>\n",
       "      <td>11.000000</td>\n",
       "      <td>1.244600</td>\n",
       "      <td>0.490000</td>\n",
       "    </tr>\n",
       "    <tr>\n",
       "      <th>max</th>\n",
       "      <td>380.000000</td>\n",
       "      <td>210.000000</td>\n",
       "      <td>190.000000</td>\n",
       "      <td>105.000000</td>\n",
       "      <td>178.000000</td>\n",
       "      <td>100.000000</td>\n",
       "      <td>211.000000</td>\n",
       "      <td>83.000000</td>\n",
       "    </tr>\n",
       "  </tbody>\n",
       "</table>\n",
       "</div>"
      ],
      "text/plain": [
       "           fat_100g  saturated-fat_100g  carbohydrates_100g   sugars_100g  \\\n",
       "count  47634.000000        62365.000000        47203.000000  62505.000000   \n",
       "mean      13.331379            5.423769           27.757503     13.431438   \n",
       "std       16.926568            8.531591           27.413412     19.087615   \n",
       "min        0.000000            0.000000            0.000000     -0.100000   \n",
       "25%        1.300000            0.300000            4.000000      1.000000   \n",
       "50%        6.800000            2.000000           14.500000      4.100000   \n",
       "75%       21.000000            7.400000           53.000000     17.800000   \n",
       "max      380.000000          210.000000          190.000000    105.000000   \n",
       "\n",
       "         fiber_100g  proteins_100g     salt_100g   sodium_100g  \n",
       "count  45713.000000   64308.000000  62564.000000  62561.000000  \n",
       "mean       2.559229       7.754490      1.160402      0.456871  \n",
       "std        4.635187       7.887513      4.309938      1.696808  \n",
       "min        0.000000       0.000000      0.000000      0.000000  \n",
       "25%        0.000000       1.800000      0.080000      0.031496  \n",
       "50%        1.350000       6.000000      0.558800      0.220000  \n",
       "75%        3.200000      11.000000      1.244600      0.490000  \n",
       "max      178.000000     100.000000    211.000000     83.000000  "
      ]
     },
     "execution_count": 33,
     "metadata": {},
     "output_type": "execute_result"
    }
   ],
   "source": [
    "df_food_aberr[list_100g].describe()"
   ]
  },
  {
   "cell_type": "markdown",
   "id": "7c5d188e",
   "metadata": {},
   "source": [
    "Nous considérons valeurs abberrantes celles supérieures à 100 ou ayant une valeur négative:"
   ]
  },
  {
   "cell_type": "markdown",
   "id": "5f586576",
   "metadata": {},
   "source": [
    "Définissons une fonction qui transforme les valeurs aberrantes en manquantes:"
   ]
  },
  {
   "cell_type": "code",
   "execution_count": 34,
   "id": "12c8aac3",
   "metadata": {},
   "outputs": [],
   "source": [
    "def valeurs_aber_100g(df,liste):\n",
    "    for i in liste:\n",
    "        mask=df[i]<0\n",
    "        df.loc[mask,i]=np.NaN\n",
    "        mask2=df[i]>100\n",
    "        df.loc[mask2,i]=np.NaN\n",
    "    return df"
   ]
  },
  {
   "cell_type": "markdown",
   "id": "e722b410",
   "metadata": {},
   "source": [
    "Transformons les valeurs aberrrantes en valeurs manquantes:"
   ]
  },
  {
   "cell_type": "code",
   "execution_count": 35,
   "id": "a26ff5c3",
   "metadata": {},
   "outputs": [],
   "source": [
    "df_food_aberr=valeurs_aber_100g(df_food_aberr,list_100g)\n",
    "    "
   ]
  },
  {
   "cell_type": "markdown",
   "id": "c0628dc8",
   "metadata": {},
   "source": [
    "D'autre part, les valeurs de \"saturated-fat_100g\" ne peuvent pas être supérieures à \"fat_100g\", de même pour les valeurs de \"sodium_100g\" qui ne peuvent pas être supérieures à \"salt_100g\" idem pour \"sugars_100g\" et \"carbohydrates_100g\".\n",
    "Nous allons transformer en valeurs manquantes celles qui remplissent ces conditions :"
   ]
  },
  {
   "cell_type": "markdown",
   "id": "12787574",
   "metadata": {},
   "source": [
    "Définissons une fonction qui transforme ces valeurs aberrantes en manquantes:"
   ]
  },
  {
   "cell_type": "code",
   "execution_count": 36,
   "id": "0dedddeb",
   "metadata": {},
   "outputs": [],
   "source": [
    "def valeurs_aber(df,liste):\n",
    "    mask=(df[liste[0]] > df[liste[1]]) | (df[liste[2]] > df[liste[3]] )\n",
    "    mask_= df[liste[4]] > df[liste[5]]\n",
    "    for i in liste:\n",
    "        df.loc[mask,i]=np.NaN\n",
    "        df.loc[mask_,i]=np.NaN\n",
    "    return df"
   ]
  },
  {
   "cell_type": "markdown",
   "id": "0b54c208",
   "metadata": {},
   "source": [
    "Définissons la liste de ces variables:"
   ]
  },
  {
   "cell_type": "code",
   "execution_count": 37,
   "id": "fbe989c8",
   "metadata": {},
   "outputs": [],
   "source": [
    "liste=['saturated-fat_100g','fat_100g','sodium_100g','salt_100g','sugars_100g','carbohydrates_100g']"
   ]
  },
  {
   "cell_type": "markdown",
   "id": "584cfa18",
   "metadata": {},
   "source": [
    "Transformons ces valeurs aberrrantes en valeurs manquantes:"
   ]
  },
  {
   "cell_type": "code",
   "execution_count": 38,
   "id": "b4962134",
   "metadata": {},
   "outputs": [],
   "source": [
    "df_food_aberr=valeurs_aber(df_food_aberr,liste)"
   ]
  },
  {
   "cell_type": "markdown",
   "id": "44a18424",
   "metadata": {},
   "source": [
    "Réanalysons le jeu de données:"
   ]
  },
  {
   "cell_type": "code",
   "execution_count": 39,
   "id": "7f91f368",
   "metadata": {},
   "outputs": [
    {
     "data": {
      "text/html": [
       "<div>\n",
       "<style scoped>\n",
       "    .dataframe tbody tr th:only-of-type {\n",
       "        vertical-align: middle;\n",
       "    }\n",
       "\n",
       "    .dataframe tbody tr th {\n",
       "        vertical-align: top;\n",
       "    }\n",
       "\n",
       "    .dataframe thead th {\n",
       "        text-align: right;\n",
       "    }\n",
       "</style>\n",
       "<table border=\"1\" class=\"dataframe\">\n",
       "  <thead>\n",
       "    <tr style=\"text-align: right;\">\n",
       "      <th></th>\n",
       "      <th>fat_100g</th>\n",
       "      <th>saturated-fat_100g</th>\n",
       "      <th>carbohydrates_100g</th>\n",
       "      <th>sugars_100g</th>\n",
       "      <th>fiber_100g</th>\n",
       "      <th>proteins_100g</th>\n",
       "      <th>salt_100g</th>\n",
       "      <th>sodium_100g</th>\n",
       "    </tr>\n",
       "  </thead>\n",
       "  <tbody>\n",
       "    <tr>\n",
       "      <th>count</th>\n",
       "      <td>47455.000000</td>\n",
       "      <td>62185.000000</td>\n",
       "      <td>47018.000000</td>\n",
       "      <td>62321.000000</td>\n",
       "      <td>45712.000000</td>\n",
       "      <td>64308.000000</td>\n",
       "      <td>62383.000000</td>\n",
       "      <td>62382.000000</td>\n",
       "    </tr>\n",
       "    <tr>\n",
       "      <th>mean</th>\n",
       "      <td>13.337863</td>\n",
       "      <td>5.416947</td>\n",
       "      <td>27.754295</td>\n",
       "      <td>13.411049</td>\n",
       "      <td>2.555391</td>\n",
       "      <td>7.754490</td>\n",
       "      <td>1.154819</td>\n",
       "      <td>0.456779</td>\n",
       "    </tr>\n",
       "    <tr>\n",
       "      <th>std</th>\n",
       "      <td>16.843748</td>\n",
       "      <td>8.476606</td>\n",
       "      <td>27.372775</td>\n",
       "      <td>19.055073</td>\n",
       "      <td>4.562024</td>\n",
       "      <td>7.887513</td>\n",
       "      <td>4.201878</td>\n",
       "      <td>1.698239</td>\n",
       "    </tr>\n",
       "    <tr>\n",
       "      <th>min</th>\n",
       "      <td>0.000000</td>\n",
       "      <td>0.000000</td>\n",
       "      <td>0.000000</td>\n",
       "      <td>0.000000</td>\n",
       "      <td>0.000000</td>\n",
       "      <td>0.000000</td>\n",
       "      <td>0.000000</td>\n",
       "      <td>0.000000</td>\n",
       "    </tr>\n",
       "    <tr>\n",
       "      <th>25%</th>\n",
       "      <td>1.300000</td>\n",
       "      <td>0.300000</td>\n",
       "      <td>4.100000</td>\n",
       "      <td>1.000000</td>\n",
       "      <td>0.000000</td>\n",
       "      <td>1.800000</td>\n",
       "      <td>0.080000</td>\n",
       "      <td>0.031496</td>\n",
       "    </tr>\n",
       "    <tr>\n",
       "      <th>50%</th>\n",
       "      <td>6.900000</td>\n",
       "      <td>2.000000</td>\n",
       "      <td>14.500000</td>\n",
       "      <td>4.000000</td>\n",
       "      <td>1.350000</td>\n",
       "      <td>6.000000</td>\n",
       "      <td>0.558800</td>\n",
       "      <td>0.220000</td>\n",
       "    </tr>\n",
       "    <tr>\n",
       "      <th>75%</th>\n",
       "      <td>21.000000</td>\n",
       "      <td>7.400000</td>\n",
       "      <td>53.000000</td>\n",
       "      <td>17.700000</td>\n",
       "      <td>3.200000</td>\n",
       "      <td>11.000000</td>\n",
       "      <td>1.244600</td>\n",
       "      <td>0.490000</td>\n",
       "    </tr>\n",
       "    <tr>\n",
       "      <th>max</th>\n",
       "      <td>100.000000</td>\n",
       "      <td>100.000000</td>\n",
       "      <td>100.000000</td>\n",
       "      <td>100.000000</td>\n",
       "      <td>100.000000</td>\n",
       "      <td>100.000000</td>\n",
       "      <td>100.000000</td>\n",
       "      <td>83.000000</td>\n",
       "    </tr>\n",
       "  </tbody>\n",
       "</table>\n",
       "</div>"
      ],
      "text/plain": [
       "           fat_100g  saturated-fat_100g  carbohydrates_100g   sugars_100g  \\\n",
       "count  47455.000000        62185.000000        47018.000000  62321.000000   \n",
       "mean      13.337863            5.416947           27.754295     13.411049   \n",
       "std       16.843748            8.476606           27.372775     19.055073   \n",
       "min        0.000000            0.000000            0.000000      0.000000   \n",
       "25%        1.300000            0.300000            4.100000      1.000000   \n",
       "50%        6.900000            2.000000           14.500000      4.000000   \n",
       "75%       21.000000            7.400000           53.000000     17.700000   \n",
       "max      100.000000          100.000000          100.000000    100.000000   \n",
       "\n",
       "         fiber_100g  proteins_100g     salt_100g   sodium_100g  \n",
       "count  45712.000000   64308.000000  62383.000000  62382.000000  \n",
       "mean       2.555391       7.754490      1.154819      0.456779  \n",
       "std        4.562024       7.887513      4.201878      1.698239  \n",
       "min        0.000000       0.000000      0.000000      0.000000  \n",
       "25%        0.000000       1.800000      0.080000      0.031496  \n",
       "50%        1.350000       6.000000      0.558800      0.220000  \n",
       "75%        3.200000      11.000000      1.244600      0.490000  \n",
       "max      100.000000     100.000000    100.000000     83.000000  "
      ]
     },
     "execution_count": 39,
     "metadata": {},
     "output_type": "execute_result"
    }
   ],
   "source": [
    "df_food_aberr[list_100g].describe()"
   ]
  },
  {
   "cell_type": "markdown",
   "id": "9e37c6b2",
   "metadata": {},
   "source": [
    "### nutrition-score-fr"
   ]
  },
  {
   "cell_type": "code",
   "execution_count": 40,
   "id": "27ff55fb",
   "metadata": {},
   "outputs": [
    {
     "data": {
      "text/plain": [
       "count    61404.000000\n",
       "mean         8.682382\n",
       "std          9.046245\n",
       "min        -15.000000\n",
       "25%          1.000000\n",
       "50%          9.000000\n",
       "75%         15.000000\n",
       "max         40.000000\n",
       "Name: nutrition-score-fr_100g, dtype: float64"
      ]
     },
     "execution_count": 40,
     "metadata": {},
     "output_type": "execute_result"
    }
   ],
   "source": [
    "df_food_aberr['nutrition-score-fr_100g'].describe()"
   ]
  },
  {
   "cell_type": "markdown",
   "id": "e66fee47",
   "metadata": {},
   "source": [
    "Le nutrition-score etant compris entre -15 et 40, nous n'avons pas de presence de valeurs aberrantes."
   ]
  },
  {
   "cell_type": "markdown",
   "id": "396ef48a",
   "metadata": {},
   "source": [
    "### Methode interquartile"
   ]
  },
  {
   "cell_type": "markdown",
   "id": "4d328a20",
   "metadata": {},
   "source": [
    "Testons la methode interquartile sur des données homogènes comme par catégorie de produit de la variable pnns_group_1."
   ]
  },
  {
   "cell_type": "code",
   "execution_count": 41,
   "id": "a00f32cb",
   "metadata": {},
   "outputs": [],
   "source": [
    "df_food_inter=df_food_50.copy()"
   ]
  },
  {
   "cell_type": "markdown",
   "id": "44db0ecb",
   "metadata": {},
   "source": [
    "Définissons la liste des catégories de produits et celle des features numériques:"
   ]
  },
  {
   "cell_type": "code",
   "execution_count": 42,
   "id": "5e4457ea",
   "metadata": {},
   "outputs": [],
   "source": [
    "list_pnns_1=df_food_inter['pnns_groups_1'].unique()\n",
    "list_num=df_food_inter.select_dtypes(include = ['float64', 'int64']).columns"
   ]
  },
  {
   "cell_type": "markdown",
   "id": "8db9b369",
   "metadata": {},
   "source": [
    "Analysons le jeu de données:"
   ]
  },
  {
   "cell_type": "code",
   "execution_count": 44,
   "id": "69139a53",
   "metadata": {},
   "outputs": [
    {
     "data": {
      "text/html": [
       "<div>\n",
       "<style scoped>\n",
       "    .dataframe tbody tr th:only-of-type {\n",
       "        vertical-align: middle;\n",
       "    }\n",
       "\n",
       "    .dataframe tbody tr th {\n",
       "        vertical-align: top;\n",
       "    }\n",
       "\n",
       "    .dataframe thead th {\n",
       "        text-align: right;\n",
       "    }\n",
       "</style>\n",
       "<table border=\"1\" class=\"dataframe\">\n",
       "  <thead>\n",
       "    <tr style=\"text-align: right;\">\n",
       "      <th></th>\n",
       "      <th>energy_100g</th>\n",
       "      <th>fat_100g</th>\n",
       "      <th>saturated-fat_100g</th>\n",
       "      <th>carbohydrates_100g</th>\n",
       "      <th>sugars_100g</th>\n",
       "      <th>fiber_100g</th>\n",
       "      <th>proteins_100g</th>\n",
       "      <th>salt_100g</th>\n",
       "      <th>sodium_100g</th>\n",
       "      <th>nutrition-score-fr_100g</th>\n",
       "    </tr>\n",
       "  </thead>\n",
       "  <tbody>\n",
       "    <tr>\n",
       "      <th>count</th>\n",
       "      <td>6.458300e+04</td>\n",
       "      <td>47634.000000</td>\n",
       "      <td>62365.000000</td>\n",
       "      <td>47203.000000</td>\n",
       "      <td>62505.000000</td>\n",
       "      <td>45713.000000</td>\n",
       "      <td>64308.000000</td>\n",
       "      <td>62564.000000</td>\n",
       "      <td>62561.000000</td>\n",
       "      <td>61404.000000</td>\n",
       "    </tr>\n",
       "    <tr>\n",
       "      <th>mean</th>\n",
       "      <td>1.171507e+03</td>\n",
       "      <td>13.331379</td>\n",
       "      <td>5.423769</td>\n",
       "      <td>27.757503</td>\n",
       "      <td>13.431438</td>\n",
       "      <td>2.559229</td>\n",
       "      <td>7.754490</td>\n",
       "      <td>1.160402</td>\n",
       "      <td>0.456871</td>\n",
       "      <td>8.682382</td>\n",
       "    </tr>\n",
       "    <tr>\n",
       "      <th>std</th>\n",
       "      <td>1.283689e+04</td>\n",
       "      <td>16.926568</td>\n",
       "      <td>8.531591</td>\n",
       "      <td>27.413412</td>\n",
       "      <td>19.087615</td>\n",
       "      <td>4.635187</td>\n",
       "      <td>7.887513</td>\n",
       "      <td>4.309938</td>\n",
       "      <td>1.696808</td>\n",
       "      <td>9.046245</td>\n",
       "    </tr>\n",
       "    <tr>\n",
       "      <th>min</th>\n",
       "      <td>0.000000e+00</td>\n",
       "      <td>0.000000</td>\n",
       "      <td>0.000000</td>\n",
       "      <td>0.000000</td>\n",
       "      <td>-0.100000</td>\n",
       "      <td>0.000000</td>\n",
       "      <td>0.000000</td>\n",
       "      <td>0.000000</td>\n",
       "      <td>0.000000</td>\n",
       "      <td>-15.000000</td>\n",
       "    </tr>\n",
       "    <tr>\n",
       "      <th>25%</th>\n",
       "      <td>4.270000e+02</td>\n",
       "      <td>1.300000</td>\n",
       "      <td>0.300000</td>\n",
       "      <td>4.000000</td>\n",
       "      <td>1.000000</td>\n",
       "      <td>0.000000</td>\n",
       "      <td>1.800000</td>\n",
       "      <td>0.080000</td>\n",
       "      <td>0.031496</td>\n",
       "      <td>1.000000</td>\n",
       "    </tr>\n",
       "    <tr>\n",
       "      <th>50%</th>\n",
       "      <td>1.035000e+03</td>\n",
       "      <td>6.800000</td>\n",
       "      <td>2.000000</td>\n",
       "      <td>14.500000</td>\n",
       "      <td>4.100000</td>\n",
       "      <td>1.350000</td>\n",
       "      <td>6.000000</td>\n",
       "      <td>0.558800</td>\n",
       "      <td>0.220000</td>\n",
       "      <td>9.000000</td>\n",
       "    </tr>\n",
       "    <tr>\n",
       "      <th>75%</th>\n",
       "      <td>1.649000e+03</td>\n",
       "      <td>21.000000</td>\n",
       "      <td>7.400000</td>\n",
       "      <td>53.000000</td>\n",
       "      <td>17.800000</td>\n",
       "      <td>3.200000</td>\n",
       "      <td>11.000000</td>\n",
       "      <td>1.244600</td>\n",
       "      <td>0.490000</td>\n",
       "      <td>15.000000</td>\n",
       "    </tr>\n",
       "    <tr>\n",
       "      <th>max</th>\n",
       "      <td>3.251373e+06</td>\n",
       "      <td>380.000000</td>\n",
       "      <td>210.000000</td>\n",
       "      <td>190.000000</td>\n",
       "      <td>105.000000</td>\n",
       "      <td>178.000000</td>\n",
       "      <td>100.000000</td>\n",
       "      <td>211.000000</td>\n",
       "      <td>83.000000</td>\n",
       "      <td>40.000000</td>\n",
       "    </tr>\n",
       "  </tbody>\n",
       "</table>\n",
       "</div>"
      ],
      "text/plain": [
       "        energy_100g      fat_100g  saturated-fat_100g  carbohydrates_100g  \\\n",
       "count  6.458300e+04  47634.000000        62365.000000        47203.000000   \n",
       "mean   1.171507e+03     13.331379            5.423769           27.757503   \n",
       "std    1.283689e+04     16.926568            8.531591           27.413412   \n",
       "min    0.000000e+00      0.000000            0.000000            0.000000   \n",
       "25%    4.270000e+02      1.300000            0.300000            4.000000   \n",
       "50%    1.035000e+03      6.800000            2.000000           14.500000   \n",
       "75%    1.649000e+03     21.000000            7.400000           53.000000   \n",
       "max    3.251373e+06    380.000000          210.000000          190.000000   \n",
       "\n",
       "        sugars_100g    fiber_100g  proteins_100g     salt_100g   sodium_100g  \\\n",
       "count  62505.000000  45713.000000   64308.000000  62564.000000  62561.000000   \n",
       "mean      13.431438      2.559229       7.754490      1.160402      0.456871   \n",
       "std       19.087615      4.635187       7.887513      4.309938      1.696808   \n",
       "min       -0.100000      0.000000       0.000000      0.000000      0.000000   \n",
       "25%        1.000000      0.000000       1.800000      0.080000      0.031496   \n",
       "50%        4.100000      1.350000       6.000000      0.558800      0.220000   \n",
       "75%       17.800000      3.200000      11.000000      1.244600      0.490000   \n",
       "max      105.000000    178.000000     100.000000    211.000000     83.000000   \n",
       "\n",
       "       nutrition-score-fr_100g  \n",
       "count             61404.000000  \n",
       "mean                  8.682382  \n",
       "std                   9.046245  \n",
       "min                 -15.000000  \n",
       "25%                   1.000000  \n",
       "50%                   9.000000  \n",
       "75%                  15.000000  \n",
       "max                  40.000000  "
      ]
     },
     "execution_count": 44,
     "metadata": {},
     "output_type": "execute_result"
    }
   ],
   "source": [
    "df_food_inter[list_num].describe()   "
   ]
  },
  {
   "cell_type": "markdown",
   "id": "6b564453",
   "metadata": {},
   "source": [
    "Définissons une fonction qui identifie les outliers et les transforment en valeurs manquantes:"
   ]
  },
  {
   "cell_type": "code",
   "execution_count": 45,
   "id": "9d4fc626",
   "metadata": {},
   "outputs": [],
   "source": [
    "def is_outlier(input_df,liste_1,liste_2,var):\n",
    "    for k in liste_1:\n",
    "        df=input_df[input_df[var]==k]\n",
    "        for i in liste_2:\n",
    "            q1=input_df[input_df[var]==k][i].quantile(.25)\n",
    "            q3=input_df[input_df[var]==k][i].quantile(.75)\n",
    "            iq_range = q3 - q1\n",
    "            mask= df[i]> (q3 + (1.5* iq_range))\n",
    "            df.loc[mask,i]=np.NaN\n",
    "            mask2=df[i]< (q1 - (1.5* iq_range))\n",
    "            df.loc[mask2,i]=np.NaN\n",
    "            input_df[input_df[var]==k]=df"
   ]
  },
  {
   "cell_type": "markdown",
   "id": "a79f86bf",
   "metadata": {},
   "source": [
    "Transformons les outliers en valeurs manquantes:"
   ]
  },
  {
   "cell_type": "code",
   "execution_count": 47,
   "id": "b8289b5d",
   "metadata": {},
   "outputs": [],
   "source": [
    "is_outlier(df_food_inter,list_pnns_1,list_num,'pnns_groups_1')"
   ]
  },
  {
   "cell_type": "markdown",
   "id": "4a8cc6ec",
   "metadata": {},
   "source": [
    "Réanalysons le jeu de données:"
   ]
  },
  {
   "cell_type": "code",
   "execution_count": 48,
   "id": "cd084511",
   "metadata": {
    "scrolled": true
   },
   "outputs": [
    {
     "data": {
      "text/html": [
       "<div>\n",
       "<style scoped>\n",
       "    .dataframe tbody tr th:only-of-type {\n",
       "        vertical-align: middle;\n",
       "    }\n",
       "\n",
       "    .dataframe tbody tr th {\n",
       "        vertical-align: top;\n",
       "    }\n",
       "\n",
       "    .dataframe thead th {\n",
       "        text-align: right;\n",
       "    }\n",
       "</style>\n",
       "<table border=\"1\" class=\"dataframe\">\n",
       "  <thead>\n",
       "    <tr style=\"text-align: right;\">\n",
       "      <th></th>\n",
       "      <th>energy_100g</th>\n",
       "      <th>fat_100g</th>\n",
       "      <th>saturated-fat_100g</th>\n",
       "      <th>carbohydrates_100g</th>\n",
       "      <th>sugars_100g</th>\n",
       "      <th>fiber_100g</th>\n",
       "      <th>proteins_100g</th>\n",
       "      <th>salt_100g</th>\n",
       "      <th>sodium_100g</th>\n",
       "      <th>nutrition-score-fr_100g</th>\n",
       "    </tr>\n",
       "  </thead>\n",
       "  <tbody>\n",
       "    <tr>\n",
       "      <th>count</th>\n",
       "      <td>61606.000000</td>\n",
       "      <td>44544.000000</td>\n",
       "      <td>55211.000000</td>\n",
       "      <td>44211.000000</td>\n",
       "      <td>56033.000000</td>\n",
       "      <td>40758.000000</td>\n",
       "      <td>59919.000000</td>\n",
       "      <td>58271.000000</td>\n",
       "      <td>58266.000000</td>\n",
       "      <td>60409.000000</td>\n",
       "    </tr>\n",
       "    <tr>\n",
       "      <th>mean</th>\n",
       "      <td>1103.772899</td>\n",
       "      <td>12.936893</td>\n",
       "      <td>4.133523</td>\n",
       "      <td>26.935601</td>\n",
       "      <td>9.931689</td>\n",
       "      <td>1.614645</td>\n",
       "      <td>6.822259</td>\n",
       "      <td>0.679437</td>\n",
       "      <td>0.267516</td>\n",
       "      <td>8.624990</td>\n",
       "    </tr>\n",
       "    <tr>\n",
       "      <th>std</th>\n",
       "      <td>764.710512</td>\n",
       "      <td>16.407350</td>\n",
       "      <td>5.722370</td>\n",
       "      <td>26.777113</td>\n",
       "      <td>14.599659</td>\n",
       "      <td>1.905983</td>\n",
       "      <td>6.322077</td>\n",
       "      <td>0.712295</td>\n",
       "      <td>0.280433</td>\n",
       "      <td>9.030119</td>\n",
       "    </tr>\n",
       "    <tr>\n",
       "      <th>min</th>\n",
       "      <td>0.000000</td>\n",
       "      <td>0.000000</td>\n",
       "      <td>0.000000</td>\n",
       "      <td>0.000000</td>\n",
       "      <td>-0.100000</td>\n",
       "      <td>0.000000</td>\n",
       "      <td>0.000000</td>\n",
       "      <td>0.000000</td>\n",
       "      <td>0.000000</td>\n",
       "      <td>-15.000000</td>\n",
       "    </tr>\n",
       "    <tr>\n",
       "      <th>25%</th>\n",
       "      <td>418.000000</td>\n",
       "      <td>1.300000</td>\n",
       "      <td>0.300000</td>\n",
       "      <td>3.900000</td>\n",
       "      <td>0.900000</td>\n",
       "      <td>0.000000</td>\n",
       "      <td>1.500000</td>\n",
       "      <td>0.050800</td>\n",
       "      <td>0.020000</td>\n",
       "      <td>1.000000</td>\n",
       "    </tr>\n",
       "    <tr>\n",
       "      <th>50%</th>\n",
       "      <td>1032.000000</td>\n",
       "      <td>6.700000</td>\n",
       "      <td>1.600000</td>\n",
       "      <td>14.000000</td>\n",
       "      <td>3.330000</td>\n",
       "      <td>1.000000</td>\n",
       "      <td>5.700000</td>\n",
       "      <td>0.500000</td>\n",
       "      <td>0.196850</td>\n",
       "      <td>8.000000</td>\n",
       "    </tr>\n",
       "    <tr>\n",
       "      <th>75%</th>\n",
       "      <td>1645.000000</td>\n",
       "      <td>21.000000</td>\n",
       "      <td>5.700000</td>\n",
       "      <td>52.600000</td>\n",
       "      <td>12.000000</td>\n",
       "      <td>2.600000</td>\n",
       "      <td>9.700000</td>\n",
       "      <td>1.100000</td>\n",
       "      <td>0.433071</td>\n",
       "      <td>15.000000</td>\n",
       "    </tr>\n",
       "    <tr>\n",
       "      <th>max</th>\n",
       "      <td>3772.000000</td>\n",
       "      <td>100.000000</td>\n",
       "      <td>39.600000</td>\n",
       "      <td>104.000000</td>\n",
       "      <td>87.000000</td>\n",
       "      <td>11.000000</td>\n",
       "      <td>40.000000</td>\n",
       "      <td>4.600000</td>\n",
       "      <td>1.811024</td>\n",
       "      <td>36.000000</td>\n",
       "    </tr>\n",
       "  </tbody>\n",
       "</table>\n",
       "</div>"
      ],
      "text/plain": [
       "        energy_100g      fat_100g  saturated-fat_100g  carbohydrates_100g  \\\n",
       "count  61606.000000  44544.000000        55211.000000        44211.000000   \n",
       "mean    1103.772899     12.936893            4.133523           26.935601   \n",
       "std      764.710512     16.407350            5.722370           26.777113   \n",
       "min        0.000000      0.000000            0.000000            0.000000   \n",
       "25%      418.000000      1.300000            0.300000            3.900000   \n",
       "50%     1032.000000      6.700000            1.600000           14.000000   \n",
       "75%     1645.000000     21.000000            5.700000           52.600000   \n",
       "max     3772.000000    100.000000           39.600000          104.000000   \n",
       "\n",
       "        sugars_100g    fiber_100g  proteins_100g     salt_100g   sodium_100g  \\\n",
       "count  56033.000000  40758.000000   59919.000000  58271.000000  58266.000000   \n",
       "mean       9.931689      1.614645       6.822259      0.679437      0.267516   \n",
       "std       14.599659      1.905983       6.322077      0.712295      0.280433   \n",
       "min       -0.100000      0.000000       0.000000      0.000000      0.000000   \n",
       "25%        0.900000      0.000000       1.500000      0.050800      0.020000   \n",
       "50%        3.330000      1.000000       5.700000      0.500000      0.196850   \n",
       "75%       12.000000      2.600000       9.700000      1.100000      0.433071   \n",
       "max       87.000000     11.000000      40.000000      4.600000      1.811024   \n",
       "\n",
       "       nutrition-score-fr_100g  \n",
       "count             60409.000000  \n",
       "mean                  8.624990  \n",
       "std                   9.030119  \n",
       "min                 -15.000000  \n",
       "25%                   1.000000  \n",
       "50%                   8.000000  \n",
       "75%                  15.000000  \n",
       "max                  36.000000  "
      ]
     },
     "execution_count": 48,
     "metadata": {},
     "output_type": "execute_result"
    }
   ],
   "source": [
    "df_food_inter[list_num].describe()   "
   ]
  },
  {
   "cell_type": "markdown",
   "id": "b9f1488d",
   "metadata": {},
   "source": [
    "Nous constatons la présence  des valeurs supérieures à 100 ou négatives qui sont considérées pourtant comme aberrantes."
   ]
  },
  {
   "cell_type": "markdown",
   "id": "a8ed0970",
   "metadata": {},
   "source": [
    "Nous décidons donc d'utiliser les données issues de l’approche métier effectuée précédemment qui est beaucoup plus efficace pour éliminer les valeurs aberrantes."
   ]
  },
  {
   "cell_type": "markdown",
   "id": "34b22b79",
   "metadata": {},
   "source": [
    "## Traitement des valeurs manquantes"
   ]
  },
  {
   "cell_type": "code",
   "execution_count": 49,
   "id": "a8ffe769",
   "metadata": {},
   "outputs": [],
   "source": [
    "df_food_cleaned=df_food_aberr.copy()"
   ]
  },
  {
   "cell_type": "markdown",
   "id": "3a060cbe",
   "metadata": {},
   "source": [
    "Affichons le nombre de valeurs manquantes par variable:"
   ]
  },
  {
   "cell_type": "code",
   "execution_count": 50,
   "id": "91b65e31",
   "metadata": {},
   "outputs": [
    {
     "data": {
      "text/plain": [
       "code                           0\n",
       "product_name                7193\n",
       "countries_fr                   0\n",
       "energy_100g                33939\n",
       "fat_100g                   50970\n",
       "saturated-fat_100g         36240\n",
       "carbohydrates_100g         51407\n",
       "sugars_100g                36104\n",
       "fiber_100g                 52713\n",
       "proteins_100g              34117\n",
       "salt_100g                  36042\n",
       "sodium_100g                36043\n",
       "nutrition_grade_fr         37021\n",
       "nutrition-score-fr_100g    37021\n",
       "pnns_groups_1                  0\n",
       "pnns_groups_2                  0\n",
       "dtype: int64"
      ]
     },
     "execution_count": 50,
     "metadata": {},
     "output_type": "execute_result"
    }
   ],
   "source": [
    "df_food_cleaned.isna().sum()"
   ]
  },
  {
   "cell_type": "markdown",
   "id": "da91f84d",
   "metadata": {},
   "source": [
    "Il en découle de diagramme du taux de remplissage suivant:"
   ]
  },
  {
   "cell_type": "code",
   "execution_count": 51,
   "id": "84a77d86",
   "metadata": {},
   "outputs": [
    {
     "data": {
      "image/png": "[encoded data removed]",
      "text/plain": [
       "<Figure size 1800x720 with 3 Axes>"
      ]
     },
     "metadata": {
      "needs_background": "light"
     },
     "output_type": "display_data"
    }
   ],
   "source": [
    "ax=msno.bar(df_food_cleaned.sample(1000))"
   ]
  },
  {
   "cell_type": "markdown",
   "id": "ab2821d2",
   "metadata": {},
   "source": [
    "#### Product_name"
   ]
  },
  {
   "cell_type": "markdown",
   "id": "1698f788",
   "metadata": {},
   "source": [
    " Nous décidons de supprimer tous les produits qui n'ont ni nom, ni catégorie et qui ne pourront donc pas être clairement identifiés."
   ]
  },
  {
   "cell_type": "code",
   "execution_count": 52,
   "id": "6d329ed8",
   "metadata": {},
   "outputs": [],
   "source": [
    "df_food_cleaned = df_food_cleaned[~((df_food_cleaned.product_name.isnull()) \n",
    "                        & ((df_food_cleaned.pnns_groups_1 == \"unknown\")  | (df_food_cleaned.pnns_groups_2 == \"unknown\")))]"
   ]
  },
  {
   "cell_type": "markdown",
   "id": "28e1d723",
   "metadata": {},
   "source": [
    "Recontrollons les valeurs manquantes:"
   ]
  },
  {
   "cell_type": "code",
   "execution_count": 53,
   "id": "3e8bce4f",
   "metadata": {},
   "outputs": [
    {
     "data": {
      "text/plain": [
       "249"
      ]
     },
     "execution_count": 53,
     "metadata": {},
     "output_type": "execute_result"
    }
   ],
   "source": [
    "df_food_cleaned['product_name'].isna().sum()"
   ]
  },
  {
   "cell_type": "markdown",
   "id": "2f680a74",
   "metadata": {},
   "source": [
    "Les code etant présents pour pourvoir retrouver les noms de ces produits et la présence de la catégorie les caractériser, nous décidons de remplaçer ces valeurs manquantes par 'unknown'."
   ]
  },
  {
   "cell_type": "code",
   "execution_count": 54,
   "id": "8dfd6a45",
   "metadata": {},
   "outputs": [],
   "source": [
    "df_food_cleaned.loc[df_food_cleaned['product_name'].isna(),'product_name']='unknown'"
   ]
  },
  {
   "cell_type": "markdown",
   "id": "ea1bcb40",
   "metadata": {},
   "source": [
    "### Remplissage par un IterativeImputer"
   ]
  },
  {
   "cell_type": "markdown",
   "id": "5491090a",
   "metadata": {},
   "source": [
    "Réalisons une analyse de la corrélation linéaire entre les variables quantitatives afin de déterminer les features éligibles à cette méthode d'imputation."
   ]
  },
  {
   "cell_type": "code",
   "execution_count": 55,
   "id": "89e8244a",
   "metadata": {},
   "outputs": [
    {
     "data": {
      "image/png": "[encoded data removed]",
      "text/plain": [
       "<Figure size 792x648 with 2 Axes>"
      ]
     },
     "metadata": {
      "needs_background": "light"
     },
     "output_type": "display_data"
    }
   ],
   "source": [
    "# Calcul de la matrice de corrélation\n",
    "corr = df_food_cleaned[['energy_100g', 'fat_100g', 'saturated-fat_100g', 'carbohydrates_100g',\n",
    "       'sugars_100g', 'fiber_100g', 'proteins_100g', 'salt_100g',\n",
    "       'sodium_100g','nutrition-score-fr_100g']].corr()\n",
    "\n",
    "# Générer un masque pour le triangle supérieur\n",
    "mask = np.triu(np.ones_like(corr, dtype=bool))\n",
    "\n",
    "# Configurer la figure matplotlib\n",
    "f, ax = plt.subplots(figsize=(11, 9))\n",
    "\n",
    "# Générer une palette de couleurs divergentes personnalisée\n",
    "cmap = sns.diverging_palette(230, 20, as_cmap=True)\n",
    "\n",
    "# Dessiner la carte thermique avec le masque et corriger le format d'image\n",
    "sns.heatmap(corr, mask=mask, cmap=cmap, vmax=1, center=0,\n",
    "            square=True, linewidths=.5, cbar_kws={\"shrink\": .5});"
   ]
  },
  {
   "cell_type": "markdown",
   "id": "aa3a59d8",
   "metadata": {},
   "source": [
    "Utilissons cette methode d'imputation sur les features 'salt_100g','sodium_100g' très correlées entre elles:"
   ]
  },
  {
   "cell_type": "code",
   "execution_count": 56,
   "id": "b8676920",
   "metadata": {},
   "outputs": [],
   "source": [
    "list_corr=['salt_100g','sodium_100g']"
   ]
  },
  {
   "cell_type": "markdown",
   "id": "fcaa96df",
   "metadata": {},
   "source": [
    "Affichons les valeurs manquantes de la liste:"
   ]
  },
  {
   "cell_type": "code",
   "execution_count": 57,
   "id": "f807a3fe",
   "metadata": {},
   "outputs": [
    {
     "data": {
      "text/plain": [
       "salt_100g      29362\n",
       "sodium_100g    29363\n",
       "dtype: int64"
      ]
     },
     "execution_count": 57,
     "metadata": {},
     "output_type": "execute_result"
    }
   ],
   "source": [
    "df_food_cleaned[list_corr].isna().sum()"
   ]
  },
  {
   "cell_type": "markdown",
   "id": "51c68820",
   "metadata": {},
   "source": [
    "Définissons la fonction iterative imputer:"
   ]
  },
  {
   "cell_type": "code",
   "execution_count": 58,
   "id": "e3811c66",
   "metadata": {},
   "outputs": [],
   "source": [
    "def iterative_imputer(df,liste):\n",
    "    for i in liste:\n",
    "        X=df[[i]].values\n",
    "        imputer = IterativeImputer()\n",
    "        imputer.fit(X)\n",
    "        X = imputer.transform(X)\n",
    "        df[i]=X      "
   ]
  },
  {
   "cell_type": "markdown",
   "id": "7e1249a4",
   "metadata": {},
   "source": [
    "Imputons les valeurs manquantes:"
   ]
  },
  {
   "cell_type": "code",
   "execution_count": 59,
   "id": "150c6cd6",
   "metadata": {},
   "outputs": [],
   "source": [
    "iterative_imputer(df_food_cleaned,list_corr)"
   ]
  },
  {
   "cell_type": "markdown",
   "id": "95e3599e",
   "metadata": {},
   "source": [
    "Recontrollons les valeurs manquantes de la liste:"
   ]
  },
  {
   "cell_type": "code",
   "execution_count": 60,
   "id": "c54bf1db",
   "metadata": {},
   "outputs": [
    {
     "data": {
      "text/plain": [
       "salt_100g      0\n",
       "sodium_100g    0\n",
       "dtype: int64"
      ]
     },
     "execution_count": 60,
     "metadata": {},
     "output_type": "execute_result"
    }
   ],
   "source": [
    "df_food_cleaned[list_corr].isna().sum()"
   ]
  },
  {
   "cell_type": "markdown",
   "id": "ce28c01c",
   "metadata": {},
   "source": [
    "### Remplissage par « 0 »"
   ]
  },
  {
   "cell_type": "markdown",
   "id": "c6ea986b",
   "metadata": {},
   "source": [
    "#### Fiber_100g"
   ]
  },
  {
   "cell_type": "markdown",
   "id": "a48b5b40",
   "metadata": {},
   "source": [
    "Nous décidons de remplaçer les  valeurs manquantes par '0' car de nombreux produits ne contiennent pas de fibres."
   ]
  },
  {
   "cell_type": "code",
   "execution_count": 61,
   "id": "4bea5f9f",
   "metadata": {},
   "outputs": [],
   "source": [
    "df_food_cleaned['fiber_100g'].fillna( method ='bfill', inplace = True)"
   ]
  },
  {
   "cell_type": "markdown",
   "id": "7a30fdc2",
   "metadata": {},
   "source": [
    "Recontrollons les valeurs manquantes:"
   ]
  },
  {
   "cell_type": "code",
   "execution_count": 62,
   "id": "63f36651",
   "metadata": {},
   "outputs": [
    {
     "data": {
      "text/plain": [
       "0"
      ]
     },
     "execution_count": 62,
     "metadata": {},
     "output_type": "execute_result"
    }
   ],
   "source": [
    "df_food_cleaned['fiber_100g'].isna().sum()"
   ]
  },
  {
   "cell_type": "markdown",
   "id": "95dd6241",
   "metadata": {},
   "source": [
    "### Remplissage par KNNImputer"
   ]
  },
  {
   "cell_type": "markdown",
   "id": "59321664",
   "metadata": {},
   "source": [
    "Nous décidons d'imputer avec l'algorithme des K Nearest Neighbours (KNN) les features suivantes:"
   ]
  },
  {
   "cell_type": "code",
   "execution_count": 63,
   "id": "90863c23",
   "metadata": {},
   "outputs": [
    {
     "data": {
      "text/plain": [
       "['sugars_100g', 'proteins_100g', 'carbohydrates_100g']"
      ]
     },
     "execution_count": 63,
     "metadata": {},
     "output_type": "execute_result"
    }
   ],
   "source": [
    "knn_features = ['sugars_100g', 'proteins_100g', 'carbohydrates_100g']\n",
    "knn_features"
   ]
  },
  {
   "cell_type": "markdown",
   "id": "0753de8c",
   "metadata": {},
   "source": [
    "Définissons la fonction d'imputation knn:"
   ]
  },
  {
   "cell_type": "code",
   "execution_count": 64,
   "id": "aea28042",
   "metadata": {},
   "outputs": [],
   "source": [
    "def knn_imputer(df,liste):\n",
    "    # On entraine le modèle d'imputation sur un échantillon de données\n",
    "    sample_data = df[liste].sample(frac=0.25, random_state=1)\n",
    "    imputer = KNNImputer(n_neighbors=5, missing_values=np.nan)\n",
    "    imputer.fit(sample_data)\n",
    "\n",
    "    # Puis on applique le modèle sur l'ensemble des données\n",
    "    data_imputed = imputer.transform(df[liste])\n",
    "    df_data_imputed = pd.DataFrame(data_imputed, columns=knn_features)\n",
    "    \n",
    "    for col_knn in liste:\n",
    "        df[col_knn] = df_data_imputed[col_knn].values\n",
    "    return df\n",
    "    "
   ]
  },
  {
   "cell_type": "markdown",
   "id": "83e506aa",
   "metadata": {},
   "source": [
    "Imputons les données manquantes:"
   ]
  },
  {
   "cell_type": "code",
   "execution_count": 65,
   "id": "0483b3bb",
   "metadata": {},
   "outputs": [],
   "source": [
    "df_food_cleaned=knn_imputer(df_food_cleaned,knn_features)"
   ]
  },
  {
   "cell_type": "markdown",
   "id": "9628b7c0",
   "metadata": {},
   "source": [
    "Recontrollons les valeurs manquantes:"
   ]
  },
  {
   "cell_type": "code",
   "execution_count": 66,
   "id": "cefcf782",
   "metadata": {},
   "outputs": [
    {
     "data": {
      "text/plain": [
       "sugars_100g           0\n",
       "proteins_100g         0\n",
       "carbohydrates_100g    0\n",
       "dtype: int64"
      ]
     },
     "execution_count": 66,
     "metadata": {},
     "output_type": "execute_result"
    }
   ],
   "source": [
    "df_food_cleaned[knn_features].isna().sum()"
   ]
  },
  {
   "cell_type": "markdown",
   "id": "a282f429",
   "metadata": {},
   "source": [
    "### Remplissage par la médiane"
   ]
  },
  {
   "cell_type": "markdown",
   "id": "024e32a5",
   "metadata": {},
   "source": [
    "Nous décidons l'imputation par la mediane sur des données homogénes comme celles par les catégories de produits de la variable pnns_group_1."
   ]
  },
  {
   "cell_type": "markdown",
   "id": "b15fb6d1",
   "metadata": {},
   "source": [
    "Définissons la liste de features dont les valeurs manquantes seront imputer par ma mediane:"
   ]
  },
  {
   "cell_type": "code",
   "execution_count": 67,
   "id": "3be3eef9",
   "metadata": {},
   "outputs": [
    {
     "data": {
      "text/plain": [
       "['energy_100g', 'fat_100g', 'saturated-fat_100g', 'nutrition-score-fr_100g']"
      ]
     },
     "execution_count": 67,
     "metadata": {},
     "output_type": "execute_result"
    }
   ],
   "source": [
    "liste_med=['energy_100g', 'fat_100g', 'saturated-fat_100g', 'nutrition-score-fr_100g']\n",
    "liste_med"
   ]
  },
  {
   "cell_type": "markdown",
   "id": "5e249b8c",
   "metadata": {},
   "source": [
    "Définissons une fonction qui remplace les valeurs manquantes par la valeur la valeur mediane:"
   ]
  },
  {
   "cell_type": "code",
   "execution_count": 68,
   "id": "6b333ffe",
   "metadata": {},
   "outputs": [],
   "source": [
    "def remplissage_median(df,liste,var):\n",
    "    for col in liste:\n",
    "        df[col] = df.groupby(var)[col].transform(lambda x: x.fillna(x.median()))"
   ]
  },
  {
   "cell_type": "markdown",
   "id": "6c4568d7",
   "metadata": {},
   "source": [
    "Imputons les valeurs manquantes:"
   ]
  },
  {
   "cell_type": "code",
   "execution_count": 69,
   "id": "cf62b00e",
   "metadata": {},
   "outputs": [],
   "source": [
    "remplissage_median(df_food_cleaned,liste_med,'pnns_groups_1')"
   ]
  },
  {
   "cell_type": "markdown",
   "id": "4d931e54",
   "metadata": {},
   "source": [
    "Recontrollons les valeurs manquantes:"
   ]
  },
  {
   "cell_type": "code",
   "execution_count": 70,
   "id": "060df87d",
   "metadata": {},
   "outputs": [
    {
     "data": {
      "text/plain": [
       "energy_100g                0\n",
       "fat_100g                   0\n",
       "saturated-fat_100g         0\n",
       "nutrition-score-fr_100g    0\n",
       "dtype: int64"
      ]
     },
     "execution_count": 70,
     "metadata": {},
     "output_type": "execute_result"
    }
   ],
   "source": [
    "df_food_cleaned[liste_med].isna().sum()"
   ]
  },
  {
   "cell_type": "markdown",
   "id": "59092091",
   "metadata": {},
   "source": [
    "### Nutrition_grade_fr"
   ]
  },
  {
   "cell_type": "markdown",
   "id": "e05ba590",
   "metadata": {},
   "source": [
    "Ayant précédemment imputer les valeurs manquantes du nutrition-score,nous pouvons imputer celles du nutrition grade  en calculant le grade correspondant."
   ]
  },
  {
   "cell_type": "markdown",
   "id": "86df42db",
   "metadata": {},
   "source": [
    "Définissons la fonction qui associe des grades correspondant au nutrition score:"
   ]
  },
  {
   "cell_type": "code",
   "execution_count": 71,
   "id": "9066b804",
   "metadata": {},
   "outputs": [],
   "source": [
    "def calc_nutrigrade(score):\n",
    "    if score< 0 :\n",
    "        nutrigrade = \"a\"\n",
    "    elif ((score >= 0) & (score < 5)):\n",
    "        nutrigrade = \"b\"\n",
    "    elif ((score >= 5) & (score < 10)) :\n",
    "        nutrigrade = \"c\"\n",
    "    elif ((score >= 10) & (score < 20)) :\n",
    "        nutrigrade = \"d\"\n",
    "    else:\n",
    "        nutrigrade = \"e\"    \n",
    "    return  nutrigrade"
   ]
  },
  {
   "cell_type": "markdown",
   "id": "c91bc616",
   "metadata": {},
   "source": [
    "Définissons les indexes des valeurs manquantes:"
   ]
  },
  {
   "cell_type": "code",
   "execution_count": 72,
   "id": "1d08ae18",
   "metadata": {},
   "outputs": [],
   "source": [
    "indexes=df_food_cleaned.loc[df_food_cleaned['nutrition_grade_fr'].isna()].index"
   ]
  },
  {
   "cell_type": "markdown",
   "id": "9007b86e",
   "metadata": {},
   "source": [
    "Définissons la fonction d'imputation des valeurs manquantes:"
   ]
  },
  {
   "cell_type": "code",
   "execution_count": 73,
   "id": "b2837d6c",
   "metadata": {},
   "outputs": [],
   "source": [
    "def imputation_nutrigrade(df,index,var_1,var_2):\n",
    "    for i in index:\n",
    "        score=df.loc[df[var_1].index==i,var_1].iloc[0]\n",
    "        df.loc[df[var_2].index==i,var_2]=calc_nutrigrade(score)"
   ]
  },
  {
   "cell_type": "markdown",
   "id": "3364aa9b",
   "metadata": {},
   "source": [
    "Imputons les valeurs manquantes:"
   ]
  },
  {
   "cell_type": "code",
   "execution_count": 74,
   "id": "acc879f4",
   "metadata": {},
   "outputs": [],
   "source": [
    "imputation_nutrigrade(df_food_cleaned,indexes,'nutrition-score-fr_100g','nutrition_grade_fr')"
   ]
  },
  {
   "cell_type": "markdown",
   "id": "4bfdf4ec",
   "metadata": {},
   "source": [
    "Recontrollons les valeurs manquantes du jeu de données:"
   ]
  },
  {
   "cell_type": "code",
   "execution_count": 75,
   "id": "fd5b9e90",
   "metadata": {},
   "outputs": [
    {
     "data": {
      "text/plain": [
       "code                       0\n",
       "product_name               0\n",
       "countries_fr               0\n",
       "energy_100g                0\n",
       "fat_100g                   0\n",
       "saturated-fat_100g         0\n",
       "carbohydrates_100g         0\n",
       "sugars_100g                0\n",
       "fiber_100g                 0\n",
       "proteins_100g              0\n",
       "salt_100g                  0\n",
       "sodium_100g                0\n",
       "nutrition_grade_fr         0\n",
       "nutrition-score-fr_100g    0\n",
       "pnns_groups_1              0\n",
       "pnns_groups_2              0\n",
       "dtype: int64"
      ]
     },
     "execution_count": 75,
     "metadata": {},
     "output_type": "execute_result"
    }
   ],
   "source": [
    "df_food_cleaned.isna().sum()"
   ]
  },
  {
   "cell_type": "markdown",
   "id": "4c4a9750",
   "metadata": {},
   "source": [
    "Réanalysons le jeu de données:"
   ]
  },
  {
   "cell_type": "code",
   "execution_count": 76,
   "id": "b31e44a7",
   "metadata": {},
   "outputs": [
    {
     "data": {
      "text/html": [
       "<div>\n",
       "<style scoped>\n",
       "    .dataframe tbody tr th:only-of-type {\n",
       "        vertical-align: middle;\n",
       "    }\n",
       "\n",
       "    .dataframe tbody tr th {\n",
       "        vertical-align: top;\n",
       "    }\n",
       "\n",
       "    .dataframe thead th {\n",
       "        text-align: right;\n",
       "    }\n",
       "</style>\n",
       "<table border=\"1\" class=\"dataframe\">\n",
       "  <thead>\n",
       "    <tr style=\"text-align: right;\">\n",
       "      <th></th>\n",
       "      <th>energy_100g</th>\n",
       "      <th>fat_100g</th>\n",
       "      <th>saturated-fat_100g</th>\n",
       "      <th>carbohydrates_100g</th>\n",
       "      <th>sugars_100g</th>\n",
       "      <th>fiber_100g</th>\n",
       "      <th>proteins_100g</th>\n",
       "      <th>salt_100g</th>\n",
       "      <th>sodium_100g</th>\n",
       "      <th>nutrition-score-fr_100g</th>\n",
       "    </tr>\n",
       "  </thead>\n",
       "  <tbody>\n",
       "    <tr>\n",
       "      <th>count</th>\n",
       "      <td>91481.000000</td>\n",
       "      <td>91481.000000</td>\n",
       "      <td>91481.000000</td>\n",
       "      <td>91481.000000</td>\n",
       "      <td>91481.000000</td>\n",
       "      <td>91481.000000</td>\n",
       "      <td>91481.000000</td>\n",
       "      <td>91481.000000</td>\n",
       "      <td>91481.000000</td>\n",
       "      <td>91481.000000</td>\n",
       "    </tr>\n",
       "    <tr>\n",
       "      <th>mean</th>\n",
       "      <td>1091.471283</td>\n",
       "      <td>10.982386</td>\n",
       "      <td>4.485003</td>\n",
       "      <td>27.226128</td>\n",
       "      <td>13.383152</td>\n",
       "      <td>2.579164</td>\n",
       "      <td>7.773364</td>\n",
       "      <td>1.153634</td>\n",
       "      <td>0.456322</td>\n",
       "      <td>8.633377</td>\n",
       "    </tr>\n",
       "    <tr>\n",
       "      <th>std</th>\n",
       "      <td>684.132654</td>\n",
       "      <td>12.874655</td>\n",
       "      <td>7.219863</td>\n",
       "      <td>21.200865</td>\n",
       "      <td>15.822079</td>\n",
       "      <td>4.430467</td>\n",
       "      <td>6.611070</td>\n",
       "      <td>3.454363</td>\n",
       "      <td>1.396432</td>\n",
       "      <td>7.818293</td>\n",
       "    </tr>\n",
       "    <tr>\n",
       "      <th>min</th>\n",
       "      <td>0.000000</td>\n",
       "      <td>0.000000</td>\n",
       "      <td>0.000000</td>\n",
       "      <td>0.000000</td>\n",
       "      <td>0.000000</td>\n",
       "      <td>0.000000</td>\n",
       "      <td>0.000000</td>\n",
       "      <td>0.000000</td>\n",
       "      <td>0.000000</td>\n",
       "      <td>-15.000000</td>\n",
       "    </tr>\n",
       "    <tr>\n",
       "      <th>25%</th>\n",
       "      <td>524.000000</td>\n",
       "      <td>3.200000</td>\n",
       "      <td>0.500000</td>\n",
       "      <td>9.960000</td>\n",
       "      <td>2.100000</td>\n",
       "      <td>0.000000</td>\n",
       "      <td>3.600000</td>\n",
       "      <td>0.170000</td>\n",
       "      <td>0.066929</td>\n",
       "      <td>2.000000</td>\n",
       "    </tr>\n",
       "    <tr>\n",
       "      <th>50%</th>\n",
       "      <td>1120.500000</td>\n",
       "      <td>7.800000</td>\n",
       "      <td>2.000000</td>\n",
       "      <td>27.626258</td>\n",
       "      <td>13.208711</td>\n",
       "      <td>1.400000</td>\n",
       "      <td>7.807919</td>\n",
       "      <td>1.153634</td>\n",
       "      <td>0.456322</td>\n",
       "      <td>9.000000</td>\n",
       "    </tr>\n",
       "    <tr>\n",
       "      <th>75%</th>\n",
       "      <td>1506.000000</td>\n",
       "      <td>11.700000</td>\n",
       "      <td>5.000000</td>\n",
       "      <td>33.000000</td>\n",
       "      <td>13.208711</td>\n",
       "      <td>3.300000</td>\n",
       "      <td>8.000000</td>\n",
       "      <td>1.153634</td>\n",
       "      <td>0.456322</td>\n",
       "      <td>13.000000</td>\n",
       "    </tr>\n",
       "    <tr>\n",
       "      <th>max</th>\n",
       "      <td>3768.000000</td>\n",
       "      <td>100.000000</td>\n",
       "      <td>100.000000</td>\n",
       "      <td>100.000000</td>\n",
       "      <td>100.000000</td>\n",
       "      <td>100.000000</td>\n",
       "      <td>100.000000</td>\n",
       "      <td>100.000000</td>\n",
       "      <td>83.000000</td>\n",
       "      <td>40.000000</td>\n",
       "    </tr>\n",
       "  </tbody>\n",
       "</table>\n",
       "</div>"
      ],
      "text/plain": [
       "        energy_100g      fat_100g  saturated-fat_100g  carbohydrates_100g  \\\n",
       "count  91481.000000  91481.000000        91481.000000        91481.000000   \n",
       "mean    1091.471283     10.982386            4.485003           27.226128   \n",
       "std      684.132654     12.874655            7.219863           21.200865   \n",
       "min        0.000000      0.000000            0.000000            0.000000   \n",
       "25%      524.000000      3.200000            0.500000            9.960000   \n",
       "50%     1120.500000      7.800000            2.000000           27.626258   \n",
       "75%     1506.000000     11.700000            5.000000           33.000000   \n",
       "max     3768.000000    100.000000          100.000000          100.000000   \n",
       "\n",
       "        sugars_100g    fiber_100g  proteins_100g     salt_100g   sodium_100g  \\\n",
       "count  91481.000000  91481.000000   91481.000000  91481.000000  91481.000000   \n",
       "mean      13.383152      2.579164       7.773364      1.153634      0.456322   \n",
       "std       15.822079      4.430467       6.611070      3.454363      1.396432   \n",
       "min        0.000000      0.000000       0.000000      0.000000      0.000000   \n",
       "25%        2.100000      0.000000       3.600000      0.170000      0.066929   \n",
       "50%       13.208711      1.400000       7.807919      1.153634      0.456322   \n",
       "75%       13.208711      3.300000       8.000000      1.153634      0.456322   \n",
       "max      100.000000    100.000000     100.000000    100.000000     83.000000   \n",
       "\n",
       "       nutrition-score-fr_100g  \n",
       "count             91481.000000  \n",
       "mean                  8.633377  \n",
       "std                   7.818293  \n",
       "min                 -15.000000  \n",
       "25%                   2.000000  \n",
       "50%                   9.000000  \n",
       "75%                  13.000000  \n",
       "max                  40.000000  "
      ]
     },
     "execution_count": 76,
     "metadata": {},
     "output_type": "execute_result"
    }
   ],
   "source": [
    "df_food_cleaned.describe()"
   ]
  },
  {
   "cell_type": "markdown",
   "id": "ddbbd4cb",
   "metadata": {},
   "source": [
    "Créons un file csv pour la partie exploration des données:"
   ]
  },
  {
   "cell_type": "code",
   "execution_count": 77,
   "id": "c6471bda",
   "metadata": {},
   "outputs": [],
   "source": [
    "df_food_cleaned.to_csv('df_food_cleaned.csv', sep = '\\t',index = False)"
   ]
  },
  {
   "cell_type": "code",
   "execution_count": null,
   "id": "63cef952",
   "metadata": {},
   "outputs": [],
   "source": []
  }
 ],
 "metadata": {
  "kernelspec": {
   "display_name": "Python 3 (ipykernel)",
   "language": "python",
   "name": "python3"
  },
  "language_info": {
   "codemirror_mode": {
    "name": "ipython",
    "version": 3
   },
   "file_extension": ".py",
   "mimetype": "text/x-python",
   "name": "python",
   "nbconvert_exporter": "python",
   "pygments_lexer": "ipython3",
   "version": "3.9.12"
  }
 },
 "nbformat": 4,
 "nbformat_minor": 5
}
